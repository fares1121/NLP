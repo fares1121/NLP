{
 "cells": [
  {
   "cell_type": "markdown",
   "metadata": {},
   "source": [
    "# **News Web Scraping and Recommendations Using GPT2**"
   ]
  },
  {
   "cell_type": "markdown",
   "metadata": {},
   "source": [
    "**Install Libraries**"
   ]
  },
  {
   "cell_type": "code",
   "execution_count": 1,
   "metadata": {},
   "outputs": [
    {
     "name": "stdout",
     "output_type": "stream",
     "text": [
      "Collecting newsapi-python\n",
      "  Downloading newsapi_python-0.2.7-py2.py3-none-any.whl.metadata (1.2 kB)\n",
      "Requirement already satisfied: requests<3.0.0 in c:\\users\\amamo\\anaconda3\\lib\\site-packages (from newsapi-python) (2.32.2)\n",
      "Requirement already satisfied: charset-normalizer<4,>=2 in c:\\users\\amamo\\anaconda3\\lib\\site-packages (from requests<3.0.0->newsapi-python) (2.0.4)\n",
      "Requirement already satisfied: idna<4,>=2.5 in c:\\users\\amamo\\anaconda3\\lib\\site-packages (from requests<3.0.0->newsapi-python) (3.7)\n",
      "Requirement already satisfied: urllib3<3,>=1.21.1 in c:\\users\\amamo\\anaconda3\\lib\\site-packages (from requests<3.0.0->newsapi-python) (2.2.2)\n",
      "Requirement already satisfied: certifi>=2017.4.17 in c:\\users\\amamo\\anaconda3\\lib\\site-packages (from requests<3.0.0->newsapi-python) (2024.7.4)\n",
      "Downloading newsapi_python-0.2.7-py2.py3-none-any.whl (7.9 kB)\n",
      "Installing collected packages: newsapi-python\n",
      "Successfully installed newsapi-python-0.2.7\n"
     ]
    }
   ],
   "source": [
    "!pip install newsapi-python\n"
   ]
  },
  {
   "cell_type": "code",
   "execution_count": 2,
   "metadata": {},
   "outputs": [
    {
     "name": "stdout",
     "output_type": "stream",
     "text": [
      "Requirement already satisfied: pycountry in c:\\users\\amamo\\anaconda3\\lib\\site-packages (24.6.1)\n"
     ]
    }
   ],
   "source": [
    "!pip install pycountry\n"
   ]
  },
  {
   "cell_type": "code",
   "execution_count": 3,
   "metadata": {},
   "outputs": [
    {
     "name": "stdout",
     "output_type": "stream",
     "text": [
      "Requirement already satisfied: transformers in c:\\users\\amamo\\anaconda3\\lib\\site-packages (4.44.0)\n",
      "Requirement already satisfied: filelock in c:\\users\\amamo\\anaconda3\\lib\\site-packages (from transformers) (3.13.1)\n",
      "Requirement already satisfied: huggingface-hub<1.0,>=0.23.2 in c:\\users\\amamo\\anaconda3\\lib\\site-packages (from transformers) (0.24.5)\n",
      "Requirement already satisfied: numpy>=1.17 in c:\\users\\amamo\\anaconda3\\lib\\site-packages (from transformers) (1.26.4)\n",
      "Requirement already satisfied: packaging>=20.0 in c:\\users\\amamo\\appdata\\roaming\\python\\python312\\site-packages (from transformers) (23.2)\n",
      "Requirement already satisfied: pyyaml>=5.1 in c:\\users\\amamo\\anaconda3\\lib\\site-packages (from transformers) (6.0.1)\n",
      "Requirement already satisfied: regex!=2019.12.17 in c:\\users\\amamo\\anaconda3\\lib\\site-packages (from transformers) (2023.10.3)\n",
      "Requirement already satisfied: requests in c:\\users\\amamo\\anaconda3\\lib\\site-packages (from transformers) (2.32.2)\n",
      "Requirement already satisfied: safetensors>=0.4.1 in c:\\users\\amamo\\anaconda3\\lib\\site-packages (from transformers) (0.4.4)\n",
      "Requirement already satisfied: tokenizers<0.20,>=0.19 in c:\\users\\amamo\\anaconda3\\lib\\site-packages (from transformers) (0.19.1)\n",
      "Requirement already satisfied: tqdm>=4.27 in c:\\users\\amamo\\anaconda3\\lib\\site-packages (from transformers) (4.66.4)\n",
      "Requirement already satisfied: fsspec>=2023.5.0 in c:\\users\\amamo\\anaconda3\\lib\\site-packages (from huggingface-hub<1.0,>=0.23.2->transformers) (2024.3.1)\n",
      "Requirement already satisfied: typing-extensions>=3.7.4.3 in c:\\users\\amamo\\anaconda3\\lib\\site-packages (from huggingface-hub<1.0,>=0.23.2->transformers) (4.11.0)\n",
      "Requirement already satisfied: colorama in c:\\users\\amamo\\appdata\\roaming\\python\\python312\\site-packages (from tqdm>=4.27->transformers) (0.4.6)\n",
      "Requirement already satisfied: charset-normalizer<4,>=2 in c:\\users\\amamo\\anaconda3\\lib\\site-packages (from requests->transformers) (2.0.4)\n",
      "Requirement already satisfied: idna<4,>=2.5 in c:\\users\\amamo\\anaconda3\\lib\\site-packages (from requests->transformers) (3.7)\n",
      "Requirement already satisfied: urllib3<3,>=1.21.1 in c:\\users\\amamo\\anaconda3\\lib\\site-packages (from requests->transformers) (2.2.2)\n",
      "Requirement already satisfied: certifi>=2017.4.17 in c:\\users\\amamo\\anaconda3\\lib\\site-packages (from requests->transformers) (2024.7.4)\n"
     ]
    }
   ],
   "source": [
    "!pip install transformers\n"
   ]
  },
  {
   "cell_type": "markdown",
   "metadata": {},
   "source": [
    "**Import Libraires**"
   ]
  },
  {
   "cell_type": "code",
   "execution_count": 4,
   "metadata": {},
   "outputs": [],
   "source": [
    "import requests\n",
    "from bs4 import BeautifulSoup\n",
    "from newsapi import NewsApiClient\n",
    "import pandas as pd\n",
    "import torch\n",
    "import warnings\n",
    "import contextlib\n",
    "from transformers import GPT2LMHeadModel, GPT2Tokenizer\n"
   ]
  },
  {
   "cell_type": "markdown",
   "metadata": {},
   "source": [
    "**Web Scraping and Data Collection**"
   ]
  },
  {
   "cell_type": "code",
   "execution_count": 5,
   "metadata": {},
   "outputs": [],
   "source": [
    "# Initialize the News API client with your API key\n",
    "api_key = '7e3c6c7cfc3c4a739569b5f04f138ab0'  #API key for access update news data\n",
    "newsapi = NewsApiClient(api_key=api_key)\n"
   ]
  },
  {
   "cell_type": "code",
   "execution_count": 6,
   "metadata": {},
   "outputs": [
    {
     "name": "stdout",
     "output_type": "stream",
     "text": [
      "{'the-times-of-india': [{'date': '2021-04-23T08:29:00Z', 'title': 'Army explores procurement of 350 light tanks for mountainous terrain after border standoff with China', 'description': 'India News:  The Army is now exploring the possibility of procuring 350 light tanks, which can also be transported by air, to augment its firepower in high-altitu', 'url': 'http://timesofindia.indiatimes.com/india/army-explores-procurement-of-350-light-tanks-for-mountainous-terrain-after-border-standoff-with-china/articleshow/82217825.cms', 'source': 'The Times of India'}, {'date': '2021-04-23T05:44:49Z', 'title': 'PBKS vs MI Live Score, IPL 2021: Mumbai Indians seek consistency; Punjab Kings eye return to winning ways', 'description': 'IPL Live Score: Mumbai Indians seek consistency; Punjab Kings eye return to winning ways. Stay with TOI to get IPL live score, playing 11, scorecard, highlights and ball by ball score updates of the 17th IPL match between Punjab Kings and Mumbai Indians.', 'url': 'http://timesofindia.indiatimes.com/sports/cricket/ipl/live-blog/punjab-kings-vs-mumbai-indians-pbks-vs-mi-live-score-ipl-2021-17th-match-chennai/liveblog/82214950.cms', 'source': 'The Times of India'}, {'date': '2021-04-23T05:43:00Z', 'title': 'Zydus Cadila gets DCGI nod for hepatitis drug for Covid-19 treatment', 'description': 'India News: Drug firm Zydus Cadila on Friday said it has received restricted emergency use approval from the Indian drug regulator for the use of Pegylated Interf', 'url': 'http://timesofindia.indiatimes.com/india/zydus-cadila-gets-dcgi-nod-for-hepatitis-drug-for-covid-19-treatment/articleshow/82214909.cms', 'source': 'The Times of India'}, {'date': '2021-04-23T04:41:00Z', 'title': 'Even record death toll may hide extent of India’s Covid crisis', 'description': 'India News: Bodies piling up at crematoriums and burial grounds across India are sparking concerns that the death toll from a ferocious new Covid-19 wave may be m.', 'url': 'http://timesofindia.indiatimes.com/india/even-record-death-toll-may-hide-extent-of-indias-covid-crisis/articleshow/82213444.cms', 'source': 'The Times of India'}, {'date': '2021-04-23T04:23:00Z', 'title': 'Government to provide 5 kg free food grains to poor for May & June', 'description': 'India News: The government on Friday announced to provide 5 kg free food grains to the poor for May and June 2021. This will cover nearly 80 crore beneficiaries u', 'url': 'http://timesofindia.indiatimes.com/india/government-to-provide-5-kg-free-food-grains-to-poor-for-may-june/articleshow/82213582.cms', 'source': 'The Times of India'}, {'date': '2021-04-23T03:54:00Z', 'title': \"'Inappropriate': PM Modi objects to 'protocol break' during meeting; Delhi CM expresses regret\", 'description': 'India News: Delhi chief minister Arvind Kejriwal on Friday faced flak for sharing a live telecast of an \"in-house\" meeting with Prime Minister Narendra Modi where', 'url': 'http://timesofindia.indiatimes.com/india/delhi-cmo-expresses-regret-over-televised-address-during-meeting-with-pm-modi/articleshow/82213159.cms', 'source': 'The Times of India'}, {'date': '2021-04-22T16:20:06Z', 'title': \"Coronavirus in India live updates: Zydus' Virafin gets DCGI nod for Covid treatment\", 'description': 'In yet another grim milestone, India recorded 3.3 lakh new Covid-19 cases, and 2,263 deaths in a day. Meanwhile, active cases crossed the 24-lakh mar', 'url': 'http://timesofindia.indiatimes.com/india/coronavirus-in-india-covid-19-vaccine-cases-lockdown-live-updates-23-april-2021/liveblog/82205841.cms', 'source': 'The Times of India'}], 'bbc-news': [{'date': '2024-08-14T16:52:14.22471Z', 'title': 'London stabbing victim is 11-year-old Australian tourist', 'description': 'The girl was in the UK capital on holiday when she and her mother were attacked in Leicester Square.', 'url': 'https://www.bbc.co.uk/news/articles/cgm71zynrm9o', 'source': 'BBC News'}, {'date': '2024-08-14T16:07:20.1307007Z', 'title': 'Trump to tout economic plan after union rights row', 'description': 'Trump will speak in North Carolina after the United Automobile Workers filed charges with federal labour regulators.', 'url': 'https://www.bbc.co.uk/news/articles/c8xlq0rg4yzo', 'source': 'BBC News'}, {'date': '2024-08-14T16:07:18.1611064Z', 'title': 'Stonehenge: Central Altar Stone from Scotland not Wales', 'description': \"Stonehenge's famous Altar Stone came from Scotland not Wales as previously thought, new analysis shows.\", 'url': 'https://www.bbc.co.uk/news/articles/c207lqdn755o', 'source': 'BBC News'}, {'date': '2024-08-14T15:52:17.3016894Z', 'title': 'Skai Jackson: Disney Channel star arrested at Universal Studios', 'description': 'Skai Jackson, known for her role as Zuri Ross in the sitcom Jessie, was held at Universal Studios.', 'url': 'https://www.bbc.co.uk/news/articles/c4gzd87w6n0o', 'source': 'BBC News'}, {'date': '2024-08-14T13:52:17.6315781Z', 'title': 'JK Rowling and Elon Musk reportedly named in Imane Khelif lawsuit', 'description': \"The Paris public prosecutor's office says it has launched a cyberbullying probe.\", 'url': 'https://www.bbc.co.uk/news/articles/cm2njjm4e2po', 'source': 'BBC News'}, {'date': '2024-08-14T13:22:15.7924018Z', 'title': \"Utah's famous 'Double Arch' rock collapses\", 'description': 'Erosion and changing water levels may have contributed to the collapse of the popular tourist site.', 'url': 'https://www.bbc.co.uk/news/articles/cdrly780lzlo', 'source': 'BBC News'}, {'date': '2024-08-14T12:52:19.7348057Z', 'title': 'Disney+ terms prevent allergy death lawsuit, Disney says', 'description': 'The entertainment giant says the terms of a free trial prevent it from being sued for wrongful death.', 'url': 'https://www.bbc.co.uk/news/articles/c8jl0ekjr0go', 'source': 'BBC News'}, {'date': '2024-08-14T10:37:26.5468668Z', 'title': 'Trump attacks Harris over US border policing – was it her job?', 'description': 'Critics call the vice-president a \"failed border tsar\" - but supporters say that was not her mission.', 'url': 'https://www.bbc.co.uk/news/articles/c3gdjjlydp4o', 'source': 'BBC News'}, {'date': '2024-08-14T10:37:23.2664328Z', 'title': 'Two polar bears kill Arctic Canadian worker in rare attack', 'description': \"The person who was killed worked at a remote radar site in Canada's Arctic region.\", 'url': 'https://www.bbc.co.uk/news/articles/cgq20qd59yyo', 'source': 'BBC News'}, {'date': '2024-08-14T03:07:12.8444767Z', 'title': \"Kolkata doctor's rape and murder in hospital alarm India\", 'description': 'The rape and murder of a female doctor in India highlight the violence against healthcare workers.', 'url': 'https://www.bbc.co.uk/news/articles/c93pqq9r5n4o', 'source': 'BBC News'}], 'cnn': [{'date': '2024-08-14T16:01:52.966Z', 'title': 'Dr. Sanjay Gupta discusses the complexities of artificial sweeteners | CNN', 'description': 'CNN’s Dr. Sanjay Gupta reports on a study linking the sugar substitute erythritol to a higher risk of blood clots and heart disease.', 'url': 'https://www.cnn.com/2024/08/14/health/video/new-health-warning-erythritol-blood-clots-heart-disease-sanjay-gupta-on-call-digvid', 'source': 'CNN'}, {'date': '2024-08-14T14:43:39Z', 'title': 'North Korea will reopen to international tourism this winter, tour operators say', 'description': 'Having closed its borders to most tourism during Covid, North Korea is finally reopening, according to two tour companies with connections to the isolated country.', 'url': 'https://www.cnn.com/2024/08/14/travel/north-korea-to-reopen-international-tourism/index.html', 'source': 'CNN'}, {'date': '2024-08-14T11:33:56Z', 'title': 'Mars agrees to buy Pringles maker Kellanova in $36 billion deal', 'description': 'Mars has agreed to buy Kellanova in a deal that values the maker of Cheez-It and Pringles at almost $29 billion.', 'url': 'https://www.cnn.com/2024/08/14/business/mars-buys-kellanova/index.html', 'source': 'CNN'}, {'date': '2024-08-14T11:00:54Z', 'title': 'Hunter Biden retains new lawyer ahead of trial on tax charges after plea talks stall', 'description': 'Hunter Biden has brought on a new, high-profile criminal defense lawyer to lead him through his tax evasion trial in the coming weeks, after discussions this summer with the special counsel who brought the case\\xa0didn’t yield a plea deal.', 'url': 'https://www.cnn.com/2024/08/14/politics/hunter-biden-new-lawyer-plea-talks-stall/index.html', 'source': 'CNN'}, {'date': '2024-08-14T09:42:16Z', 'title': 'Judge removes election-denying lawyer from Dominion defamation case for ‘egregious misconduct’', 'description': 'A judge barred an indicted, election-denying lawyer from being involved in one of Dominion Voting Systems’ 2020 election defamation cases after she publicly leaked the company’s internal emails.', 'url': 'https://www.cnn.com/2024/08/14/politics/stefanie-lambert-patrick-byrne-dominion-2020-election/index.html', 'source': 'CNN'}, {'date': '2024-08-14T09:00:03Z', 'title': 'As Justice Gorsuch rails against federal rules, some profiled in his new book embrace more measured view', 'description': 'Supreme Court Justice Neil Gorsuch is using a new book to lament what he sees as an explosion of government rules he fears is having serious consequences for the “lives and liberties of every American.”', 'url': 'https://www.cnn.com/2024/08/14/politics/neil-gorsuch-book-federal-rules/index.html', 'source': 'CNN'}, {'date': '2024-08-14T02:31:50.411Z', 'title': 'Kaitlan Collins describes her Uber driver’s reaction to hearing her talking with Trump | CNN Politics', 'description': 'CNN’s Kaitlan Collins shares her experience of catching an Uber driver off guard by calling former President Donald Trump from the backseat of his vehicle.', 'url': 'https://www.cnn.com/2024/08/13/politics/video/kaitlan-collins-uber-trump-call-src-digvid', 'source': 'CNN'}, {'date': '2024-08-13T21:35:37.09Z', 'title': 'Video: Key Trump allies want him to stop insulting Harris | CNN', 'description': 'CNN political commentator SE Cupp discusses why former President Donald Trump’s allies, including Peter Navarro and Kellyanne Conway, are urging him to stop insulting Kamala Harris. Cupp argues that such comments could negatively impact his support, especiall…', 'url': 'https://www.cnn.com/2024/08/13/opinions/video/key-allies-ask-trump-stop-harris-insults-contd-digvid', 'source': 'CNN'}, {'date': '2024-08-13T19:33:49Z', 'title': 'With ‘Cancer Moonshot’ announcement, Biden turns to causes most important to him in final months in office', 'description': 'President Joe Biden’s first public event planned since his exit from the 2024 race last month marked a\\xa0cause close to home: Announcing a major financial award from the cancer-curing policy arm he created in the wake of his son Beau Biden’s death.', 'url': 'https://www.cnn.com/2024/08/13/politics/biden-to-highlight-closest-causes-in-final-months-in-office/index.html', 'source': 'CNN'}, {'date': '2024-08-13T18:47:45.432Z', 'title': 'House blasted with water after contractor’s mistake | CNN', 'description': 'A home in Edison, New Jersey was deluged with water after an apparent contractor mistake.', 'url': 'https://www.cnn.com/2024/08/13/us/video/edison-new-jersey-video-water-main-break-digvid', 'source': 'CNN'}]}\n"
     ]
    }
   ],
   "source": [
    "# Define the news sources you want to fetch data from\n",
    "news_sources = ['the-times-of-india', 'bbc-news', 'aajtak', 'cnn']\n",
    "\n",
    "# Create a dictionary to store news data for each source\n",
    "news_data = {}\n",
    "\n",
    "# Iterate through the news sources\n",
    "for source in news_sources:\n",
    "    try:\n",
    "        # Use the News API to fetch top headlines from the specified source\n",
    "        top_headlines = newsapi.get_top_headlines(sources=source, language='en')\n",
    "\n",
    "        # Retrieve the headlines' data\n",
    "        headlines = top_headlines['articles']\n",
    "\n",
    "        if headlines:\n",
    "            # Format and store the news articles for the source\n",
    "            formatted_headlines = []\n",
    "            for article in headlines:\n",
    "                formatted_article = {\n",
    "                    \"date\": article['publishedAt'],  # Add the date field\n",
    "                    \"title\": article['title'],\n",
    "                    \"description\": article['description'],\n",
    "                    \"url\": article['url'],\n",
    "                    \"source\": article['source']['name'],\n",
    "                }\n",
    "                formatted_headlines.append(formatted_article)\n",
    "\n",
    "            news_data[source] = formatted_headlines\n",
    "\n",
    "    except Exception as e:\n",
    "        print(f\"An error occurred while fetching news from {source}: {str(e)}\")\n",
    "print(news_data)\n"
   ]
  },
  {
   "cell_type": "markdown",
   "metadata": {},
   "source": [
    "**Data Transformation and Pandas DataFrame**"
   ]
  },
  {
   "cell_type": "code",
   "execution_count": 8,
   "metadata": {},
   "outputs": [
    {
     "data": {
      "text/plain": [
       "dict"
      ]
     },
     "execution_count": 8,
     "metadata": {},
     "output_type": "execute_result"
    }
   ],
   "source": [
    "news_data\n",
    "type(news_data)\n"
   ]
  },
  {
   "cell_type": "code",
   "execution_count": 9,
   "metadata": {},
   "outputs": [
    {
     "name": "stdout",
     "output_type": "stream",
     "text": [
      "                            date  \\\n",
      "0           2021-04-23T08:29:00Z   \n",
      "1           2021-04-23T05:44:49Z   \n",
      "2           2021-04-23T05:43:00Z   \n",
      "3           2021-04-23T04:41:00Z   \n",
      "4           2021-04-23T04:23:00Z   \n",
      "5           2021-04-23T03:54:00Z   \n",
      "6           2021-04-22T16:20:06Z   \n",
      "7     2024-08-14T16:52:14.22471Z   \n",
      "8   2024-08-14T16:07:20.1307007Z   \n",
      "9   2024-08-14T16:07:18.1611064Z   \n",
      "10  2024-08-14T15:52:17.3016894Z   \n",
      "11  2024-08-14T13:52:17.6315781Z   \n",
      "12  2024-08-14T13:22:15.7924018Z   \n",
      "13  2024-08-14T12:52:19.7348057Z   \n",
      "14  2024-08-14T10:37:26.5468668Z   \n",
      "15  2024-08-14T10:37:23.2664328Z   \n",
      "16  2024-08-14T03:07:12.8444767Z   \n",
      "17      2024-08-14T16:01:52.966Z   \n",
      "18          2024-08-14T14:43:39Z   \n",
      "19          2024-08-14T11:33:56Z   \n",
      "20          2024-08-14T11:00:54Z   \n",
      "21          2024-08-14T09:42:16Z   \n",
      "22          2024-08-14T09:00:03Z   \n",
      "23      2024-08-14T02:31:50.411Z   \n",
      "24       2024-08-13T21:35:37.09Z   \n",
      "25          2024-08-13T19:33:49Z   \n",
      "26      2024-08-13T18:47:45.432Z   \n",
      "\n",
      "                                                title  \\\n",
      "0   Army explores procurement of 350 light tanks f...   \n",
      "1   PBKS vs MI Live Score, IPL 2021: Mumbai Indian...   \n",
      "2   Zydus Cadila gets DCGI nod for hepatitis drug ...   \n",
      "3   Even record death toll may hide extent of Indi...   \n",
      "4   Government to provide 5 kg free food grains to...   \n",
      "5   'Inappropriate': PM Modi objects to 'protocol ...   \n",
      "6   Coronavirus in India live updates: Zydus' Vira...   \n",
      "7   London stabbing victim is 11-year-old Australi...   \n",
      "8   Trump to tout economic plan after union rights...   \n",
      "9   Stonehenge: Central Altar Stone from Scotland ...   \n",
      "10  Skai Jackson: Disney Channel star arrested at ...   \n",
      "11  JK Rowling and Elon Musk reportedly named in I...   \n",
      "12         Utah's famous 'Double Arch' rock collapses   \n",
      "13  Disney+ terms prevent allergy death lawsuit, D...   \n",
      "14  Trump attacks Harris over US border policing –...   \n",
      "15  Two polar bears kill Arctic Canadian worker in...   \n",
      "16  Kolkata doctor's rape and murder in hospital a...   \n",
      "17  Dr. Sanjay Gupta discusses the complexities of...   \n",
      "18  North Korea will reopen to international touri...   \n",
      "19  Mars agrees to buy Pringles maker Kellanova in...   \n",
      "20  Hunter Biden retains new lawyer ahead of trial...   \n",
      "21  Judge removes election-denying lawyer from Dom...   \n",
      "22  As Justice Gorsuch rails against federal rules...   \n",
      "23  Kaitlan Collins describes her Uber driver’s re...   \n",
      "24  Video: Key Trump allies want him to stop insul...   \n",
      "25  With ‘Cancer Moonshot’ announcement, Biden tur...   \n",
      "26  House blasted with water after contractor’s mi...   \n",
      "\n",
      "                                          description  \\\n",
      "0   India News:  The Army is now exploring the pos...   \n",
      "1   IPL Live Score: Mumbai Indians seek consistenc...   \n",
      "2   India News: Drug firm Zydus Cadila on Friday s...   \n",
      "3   India News: Bodies piling up at crematoriums a...   \n",
      "4   India News: The government on Friday announced...   \n",
      "5   India News: Delhi chief minister Arvind Kejriw...   \n",
      "6   In yet another grim milestone, India recorded ...   \n",
      "7   The girl was in the UK capital on holiday when...   \n",
      "8   Trump will speak in North Carolina after the U...   \n",
      "9   Stonehenge's famous Altar Stone came from Scot...   \n",
      "10  Skai Jackson, known for her role as Zuri Ross ...   \n",
      "11  The Paris public prosecutor's office says it h...   \n",
      "12  Erosion and changing water levels may have con...   \n",
      "13  The entertainment giant says the terms of a fr...   \n",
      "14  Critics call the vice-president a \"failed bord...   \n",
      "15  The person who was killed worked at a remote r...   \n",
      "16  The rape and murder of a female doctor in Indi...   \n",
      "17  CNN’s Dr. Sanjay Gupta reports on a study link...   \n",
      "18  Having closed its borders to most tourism duri...   \n",
      "19  Mars has agreed to buy Kellanova in a deal tha...   \n",
      "20  Hunter Biden has brought on a new, high-profil...   \n",
      "21  A judge barred an indicted, election-denying l...   \n",
      "22  Supreme Court Justice Neil Gorsuch is using a ...   \n",
      "23  CNN’s Kaitlan Collins shares her experience of...   \n",
      "24  CNN political commentator SE Cupp discusses wh...   \n",
      "25  President Joe Biden’s first public event plann...   \n",
      "26  A home in Edison, New Jersey was deluged with ...   \n",
      "\n",
      "                                                  url              source  \n",
      "0   http://timesofindia.indiatimes.com/india/army-...  the-times-of-india  \n",
      "1   http://timesofindia.indiatimes.com/sports/cric...  the-times-of-india  \n",
      "2   http://timesofindia.indiatimes.com/india/zydus...  the-times-of-india  \n",
      "3   http://timesofindia.indiatimes.com/india/even-...  the-times-of-india  \n",
      "4   http://timesofindia.indiatimes.com/india/gover...  the-times-of-india  \n",
      "5   http://timesofindia.indiatimes.com/india/delhi...  the-times-of-india  \n",
      "6   http://timesofindia.indiatimes.com/india/coron...  the-times-of-india  \n",
      "7    https://www.bbc.co.uk/news/articles/cgm71zynrm9o            bbc-news  \n",
      "8    https://www.bbc.co.uk/news/articles/c8xlq0rg4yzo            bbc-news  \n",
      "9    https://www.bbc.co.uk/news/articles/c207lqdn755o            bbc-news  \n",
      "10   https://www.bbc.co.uk/news/articles/c4gzd87w6n0o            bbc-news  \n",
      "11   https://www.bbc.co.uk/news/articles/cm2njjm4e2po            bbc-news  \n",
      "12   https://www.bbc.co.uk/news/articles/cdrly780lzlo            bbc-news  \n",
      "13   https://www.bbc.co.uk/news/articles/c8jl0ekjr0go            bbc-news  \n",
      "14   https://www.bbc.co.uk/news/articles/c3gdjjlydp4o            bbc-news  \n",
      "15   https://www.bbc.co.uk/news/articles/cgq20qd59yyo            bbc-news  \n",
      "16   https://www.bbc.co.uk/news/articles/c93pqq9r5n4o            bbc-news  \n",
      "17  https://www.cnn.com/2024/08/14/health/video/ne...                 cnn  \n",
      "18  https://www.cnn.com/2024/08/14/travel/north-ko...                 cnn  \n",
      "19  https://www.cnn.com/2024/08/14/business/mars-b...                 cnn  \n",
      "20  https://www.cnn.com/2024/08/14/politics/hunter...                 cnn  \n",
      "21  https://www.cnn.com/2024/08/14/politics/stefan...                 cnn  \n",
      "22  https://www.cnn.com/2024/08/14/politics/neil-g...                 cnn  \n",
      "23  https://www.cnn.com/2024/08/13/politics/video/...                 cnn  \n",
      "24  https://www.cnn.com/2024/08/13/opinions/video/...                 cnn  \n",
      "25  https://www.cnn.com/2024/08/13/politics/biden-...                 cnn  \n",
      "26  https://www.cnn.com/2024/08/13/us/video/edison...                 cnn  \n"
     ]
    }
   ],
   "source": [
    "# Create a list to store all the news articles\n",
    "all_articles = []\n",
    "\n",
    "# Iterate through the sources and their respective articles\n",
    "for source, articles in news_data.items():\n",
    "    for article in articles:\n",
    "        # Add the source as an additional field\n",
    "        article[\"source\"] = source\n",
    "        all_articles.append(article)\n",
    "\n",
    "# Convert the list of dictionaries into a Pandas DataFrame\n",
    "df = pd.DataFrame(all_articles)\n",
    "\n",
    "# Display the DataFrame\n",
    "print(df)\n"
   ]
  },
  {
   "cell_type": "code",
   "execution_count": 10,
   "metadata": {},
   "outputs": [
    {
     "data": {
      "text/html": [
       "<div>\n",
       "<style scoped>\n",
       "    .dataframe tbody tr th:only-of-type {\n",
       "        vertical-align: middle;\n",
       "    }\n",
       "\n",
       "    .dataframe tbody tr th {\n",
       "        vertical-align: top;\n",
       "    }\n",
       "\n",
       "    .dataframe thead th {\n",
       "        text-align: right;\n",
       "    }\n",
       "</style>\n",
       "<table border=\"1\" class=\"dataframe\">\n",
       "  <thead>\n",
       "    <tr style=\"text-align: right;\">\n",
       "      <th></th>\n",
       "      <th>date</th>\n",
       "      <th>title</th>\n",
       "      <th>description</th>\n",
       "      <th>url</th>\n",
       "      <th>source</th>\n",
       "    </tr>\n",
       "  </thead>\n",
       "  <tbody>\n",
       "    <tr>\n",
       "      <th>0</th>\n",
       "      <td>2021-04-23T08:29:00Z</td>\n",
       "      <td>Army explores procurement of 350 light tanks f...</td>\n",
       "      <td>India News:  The Army is now exploring the pos...</td>\n",
       "      <td>http://timesofindia.indiatimes.com/india/army-...</td>\n",
       "      <td>the-times-of-india</td>\n",
       "    </tr>\n",
       "    <tr>\n",
       "      <th>1</th>\n",
       "      <td>2021-04-23T05:44:49Z</td>\n",
       "      <td>PBKS vs MI Live Score, IPL 2021: Mumbai Indian...</td>\n",
       "      <td>IPL Live Score: Mumbai Indians seek consistenc...</td>\n",
       "      <td>http://timesofindia.indiatimes.com/sports/cric...</td>\n",
       "      <td>the-times-of-india</td>\n",
       "    </tr>\n",
       "    <tr>\n",
       "      <th>2</th>\n",
       "      <td>2021-04-23T05:43:00Z</td>\n",
       "      <td>Zydus Cadila gets DCGI nod for hepatitis drug ...</td>\n",
       "      <td>India News: Drug firm Zydus Cadila on Friday s...</td>\n",
       "      <td>http://timesofindia.indiatimes.com/india/zydus...</td>\n",
       "      <td>the-times-of-india</td>\n",
       "    </tr>\n",
       "    <tr>\n",
       "      <th>3</th>\n",
       "      <td>2021-04-23T04:41:00Z</td>\n",
       "      <td>Even record death toll may hide extent of Indi...</td>\n",
       "      <td>India News: Bodies piling up at crematoriums a...</td>\n",
       "      <td>http://timesofindia.indiatimes.com/india/even-...</td>\n",
       "      <td>the-times-of-india</td>\n",
       "    </tr>\n",
       "    <tr>\n",
       "      <th>4</th>\n",
       "      <td>2021-04-23T04:23:00Z</td>\n",
       "      <td>Government to provide 5 kg free food grains to...</td>\n",
       "      <td>India News: The government on Friday announced...</td>\n",
       "      <td>http://timesofindia.indiatimes.com/india/gover...</td>\n",
       "      <td>the-times-of-india</td>\n",
       "    </tr>\n",
       "    <tr>\n",
       "      <th>5</th>\n",
       "      <td>2021-04-23T03:54:00Z</td>\n",
       "      <td>'Inappropriate': PM Modi objects to 'protocol ...</td>\n",
       "      <td>India News: Delhi chief minister Arvind Kejriw...</td>\n",
       "      <td>http://timesofindia.indiatimes.com/india/delhi...</td>\n",
       "      <td>the-times-of-india</td>\n",
       "    </tr>\n",
       "    <tr>\n",
       "      <th>6</th>\n",
       "      <td>2021-04-22T16:20:06Z</td>\n",
       "      <td>Coronavirus in India live updates: Zydus' Vira...</td>\n",
       "      <td>In yet another grim milestone, India recorded ...</td>\n",
       "      <td>http://timesofindia.indiatimes.com/india/coron...</td>\n",
       "      <td>the-times-of-india</td>\n",
       "    </tr>\n",
       "    <tr>\n",
       "      <th>7</th>\n",
       "      <td>2024-08-14T16:52:14.22471Z</td>\n",
       "      <td>London stabbing victim is 11-year-old Australi...</td>\n",
       "      <td>The girl was in the UK capital on holiday when...</td>\n",
       "      <td>https://www.bbc.co.uk/news/articles/cgm71zynrm9o</td>\n",
       "      <td>bbc-news</td>\n",
       "    </tr>\n",
       "    <tr>\n",
       "      <th>8</th>\n",
       "      <td>2024-08-14T16:07:20.1307007Z</td>\n",
       "      <td>Trump to tout economic plan after union rights...</td>\n",
       "      <td>Trump will speak in North Carolina after the U...</td>\n",
       "      <td>https://www.bbc.co.uk/news/articles/c8xlq0rg4yzo</td>\n",
       "      <td>bbc-news</td>\n",
       "    </tr>\n",
       "    <tr>\n",
       "      <th>9</th>\n",
       "      <td>2024-08-14T16:07:18.1611064Z</td>\n",
       "      <td>Stonehenge: Central Altar Stone from Scotland ...</td>\n",
       "      <td>Stonehenge's famous Altar Stone came from Scot...</td>\n",
       "      <td>https://www.bbc.co.uk/news/articles/c207lqdn755o</td>\n",
       "      <td>bbc-news</td>\n",
       "    </tr>\n",
       "    <tr>\n",
       "      <th>10</th>\n",
       "      <td>2024-08-14T15:52:17.3016894Z</td>\n",
       "      <td>Skai Jackson: Disney Channel star arrested at ...</td>\n",
       "      <td>Skai Jackson, known for her role as Zuri Ross ...</td>\n",
       "      <td>https://www.bbc.co.uk/news/articles/c4gzd87w6n0o</td>\n",
       "      <td>bbc-news</td>\n",
       "    </tr>\n",
       "    <tr>\n",
       "      <th>11</th>\n",
       "      <td>2024-08-14T13:52:17.6315781Z</td>\n",
       "      <td>JK Rowling and Elon Musk reportedly named in I...</td>\n",
       "      <td>The Paris public prosecutor's office says it h...</td>\n",
       "      <td>https://www.bbc.co.uk/news/articles/cm2njjm4e2po</td>\n",
       "      <td>bbc-news</td>\n",
       "    </tr>\n",
       "    <tr>\n",
       "      <th>12</th>\n",
       "      <td>2024-08-14T13:22:15.7924018Z</td>\n",
       "      <td>Utah's famous 'Double Arch' rock collapses</td>\n",
       "      <td>Erosion and changing water levels may have con...</td>\n",
       "      <td>https://www.bbc.co.uk/news/articles/cdrly780lzlo</td>\n",
       "      <td>bbc-news</td>\n",
       "    </tr>\n",
       "    <tr>\n",
       "      <th>13</th>\n",
       "      <td>2024-08-14T12:52:19.7348057Z</td>\n",
       "      <td>Disney+ terms prevent allergy death lawsuit, D...</td>\n",
       "      <td>The entertainment giant says the terms of a fr...</td>\n",
       "      <td>https://www.bbc.co.uk/news/articles/c8jl0ekjr0go</td>\n",
       "      <td>bbc-news</td>\n",
       "    </tr>\n",
       "    <tr>\n",
       "      <th>14</th>\n",
       "      <td>2024-08-14T10:37:26.5468668Z</td>\n",
       "      <td>Trump attacks Harris over US border policing –...</td>\n",
       "      <td>Critics call the vice-president a \"failed bord...</td>\n",
       "      <td>https://www.bbc.co.uk/news/articles/c3gdjjlydp4o</td>\n",
       "      <td>bbc-news</td>\n",
       "    </tr>\n",
       "    <tr>\n",
       "      <th>15</th>\n",
       "      <td>2024-08-14T10:37:23.2664328Z</td>\n",
       "      <td>Two polar bears kill Arctic Canadian worker in...</td>\n",
       "      <td>The person who was killed worked at a remote r...</td>\n",
       "      <td>https://www.bbc.co.uk/news/articles/cgq20qd59yyo</td>\n",
       "      <td>bbc-news</td>\n",
       "    </tr>\n",
       "    <tr>\n",
       "      <th>16</th>\n",
       "      <td>2024-08-14T03:07:12.8444767Z</td>\n",
       "      <td>Kolkata doctor's rape and murder in hospital a...</td>\n",
       "      <td>The rape and murder of a female doctor in Indi...</td>\n",
       "      <td>https://www.bbc.co.uk/news/articles/c93pqq9r5n4o</td>\n",
       "      <td>bbc-news</td>\n",
       "    </tr>\n",
       "    <tr>\n",
       "      <th>17</th>\n",
       "      <td>2024-08-14T16:01:52.966Z</td>\n",
       "      <td>Dr. Sanjay Gupta discusses the complexities of...</td>\n",
       "      <td>CNN’s Dr. Sanjay Gupta reports on a study link...</td>\n",
       "      <td>https://www.cnn.com/2024/08/14/health/video/ne...</td>\n",
       "      <td>cnn</td>\n",
       "    </tr>\n",
       "    <tr>\n",
       "      <th>18</th>\n",
       "      <td>2024-08-14T14:43:39Z</td>\n",
       "      <td>North Korea will reopen to international touri...</td>\n",
       "      <td>Having closed its borders to most tourism duri...</td>\n",
       "      <td>https://www.cnn.com/2024/08/14/travel/north-ko...</td>\n",
       "      <td>cnn</td>\n",
       "    </tr>\n",
       "    <tr>\n",
       "      <th>19</th>\n",
       "      <td>2024-08-14T11:33:56Z</td>\n",
       "      <td>Mars agrees to buy Pringles maker Kellanova in...</td>\n",
       "      <td>Mars has agreed to buy Kellanova in a deal tha...</td>\n",
       "      <td>https://www.cnn.com/2024/08/14/business/mars-b...</td>\n",
       "      <td>cnn</td>\n",
       "    </tr>\n",
       "    <tr>\n",
       "      <th>20</th>\n",
       "      <td>2024-08-14T11:00:54Z</td>\n",
       "      <td>Hunter Biden retains new lawyer ahead of trial...</td>\n",
       "      <td>Hunter Biden has brought on a new, high-profil...</td>\n",
       "      <td>https://www.cnn.com/2024/08/14/politics/hunter...</td>\n",
       "      <td>cnn</td>\n",
       "    </tr>\n",
       "    <tr>\n",
       "      <th>21</th>\n",
       "      <td>2024-08-14T09:42:16Z</td>\n",
       "      <td>Judge removes election-denying lawyer from Dom...</td>\n",
       "      <td>A judge barred an indicted, election-denying l...</td>\n",
       "      <td>https://www.cnn.com/2024/08/14/politics/stefan...</td>\n",
       "      <td>cnn</td>\n",
       "    </tr>\n",
       "    <tr>\n",
       "      <th>22</th>\n",
       "      <td>2024-08-14T09:00:03Z</td>\n",
       "      <td>As Justice Gorsuch rails against federal rules...</td>\n",
       "      <td>Supreme Court Justice Neil Gorsuch is using a ...</td>\n",
       "      <td>https://www.cnn.com/2024/08/14/politics/neil-g...</td>\n",
       "      <td>cnn</td>\n",
       "    </tr>\n",
       "    <tr>\n",
       "      <th>23</th>\n",
       "      <td>2024-08-14T02:31:50.411Z</td>\n",
       "      <td>Kaitlan Collins describes her Uber driver’s re...</td>\n",
       "      <td>CNN’s Kaitlan Collins shares her experience of...</td>\n",
       "      <td>https://www.cnn.com/2024/08/13/politics/video/...</td>\n",
       "      <td>cnn</td>\n",
       "    </tr>\n",
       "    <tr>\n",
       "      <th>24</th>\n",
       "      <td>2024-08-13T21:35:37.09Z</td>\n",
       "      <td>Video: Key Trump allies want him to stop insul...</td>\n",
       "      <td>CNN political commentator SE Cupp discusses wh...</td>\n",
       "      <td>https://www.cnn.com/2024/08/13/opinions/video/...</td>\n",
       "      <td>cnn</td>\n",
       "    </tr>\n",
       "    <tr>\n",
       "      <th>25</th>\n",
       "      <td>2024-08-13T19:33:49Z</td>\n",
       "      <td>With ‘Cancer Moonshot’ announcement, Biden tur...</td>\n",
       "      <td>President Joe Biden’s first public event plann...</td>\n",
       "      <td>https://www.cnn.com/2024/08/13/politics/biden-...</td>\n",
       "      <td>cnn</td>\n",
       "    </tr>\n",
       "    <tr>\n",
       "      <th>26</th>\n",
       "      <td>2024-08-13T18:47:45.432Z</td>\n",
       "      <td>House blasted with water after contractor’s mi...</td>\n",
       "      <td>A home in Edison, New Jersey was deluged with ...</td>\n",
       "      <td>https://www.cnn.com/2024/08/13/us/video/edison...</td>\n",
       "      <td>cnn</td>\n",
       "    </tr>\n",
       "  </tbody>\n",
       "</table>\n",
       "</div>"
      ],
      "text/plain": [
       "                            date  \\\n",
       "0           2021-04-23T08:29:00Z   \n",
       "1           2021-04-23T05:44:49Z   \n",
       "2           2021-04-23T05:43:00Z   \n",
       "3           2021-04-23T04:41:00Z   \n",
       "4           2021-04-23T04:23:00Z   \n",
       "5           2021-04-23T03:54:00Z   \n",
       "6           2021-04-22T16:20:06Z   \n",
       "7     2024-08-14T16:52:14.22471Z   \n",
       "8   2024-08-14T16:07:20.1307007Z   \n",
       "9   2024-08-14T16:07:18.1611064Z   \n",
       "10  2024-08-14T15:52:17.3016894Z   \n",
       "11  2024-08-14T13:52:17.6315781Z   \n",
       "12  2024-08-14T13:22:15.7924018Z   \n",
       "13  2024-08-14T12:52:19.7348057Z   \n",
       "14  2024-08-14T10:37:26.5468668Z   \n",
       "15  2024-08-14T10:37:23.2664328Z   \n",
       "16  2024-08-14T03:07:12.8444767Z   \n",
       "17      2024-08-14T16:01:52.966Z   \n",
       "18          2024-08-14T14:43:39Z   \n",
       "19          2024-08-14T11:33:56Z   \n",
       "20          2024-08-14T11:00:54Z   \n",
       "21          2024-08-14T09:42:16Z   \n",
       "22          2024-08-14T09:00:03Z   \n",
       "23      2024-08-14T02:31:50.411Z   \n",
       "24       2024-08-13T21:35:37.09Z   \n",
       "25          2024-08-13T19:33:49Z   \n",
       "26      2024-08-13T18:47:45.432Z   \n",
       "\n",
       "                                                title  \\\n",
       "0   Army explores procurement of 350 light tanks f...   \n",
       "1   PBKS vs MI Live Score, IPL 2021: Mumbai Indian...   \n",
       "2   Zydus Cadila gets DCGI nod for hepatitis drug ...   \n",
       "3   Even record death toll may hide extent of Indi...   \n",
       "4   Government to provide 5 kg free food grains to...   \n",
       "5   'Inappropriate': PM Modi objects to 'protocol ...   \n",
       "6   Coronavirus in India live updates: Zydus' Vira...   \n",
       "7   London stabbing victim is 11-year-old Australi...   \n",
       "8   Trump to tout economic plan after union rights...   \n",
       "9   Stonehenge: Central Altar Stone from Scotland ...   \n",
       "10  Skai Jackson: Disney Channel star arrested at ...   \n",
       "11  JK Rowling and Elon Musk reportedly named in I...   \n",
       "12         Utah's famous 'Double Arch' rock collapses   \n",
       "13  Disney+ terms prevent allergy death lawsuit, D...   \n",
       "14  Trump attacks Harris over US border policing –...   \n",
       "15  Two polar bears kill Arctic Canadian worker in...   \n",
       "16  Kolkata doctor's rape and murder in hospital a...   \n",
       "17  Dr. Sanjay Gupta discusses the complexities of...   \n",
       "18  North Korea will reopen to international touri...   \n",
       "19  Mars agrees to buy Pringles maker Kellanova in...   \n",
       "20  Hunter Biden retains new lawyer ahead of trial...   \n",
       "21  Judge removes election-denying lawyer from Dom...   \n",
       "22  As Justice Gorsuch rails against federal rules...   \n",
       "23  Kaitlan Collins describes her Uber driver’s re...   \n",
       "24  Video: Key Trump allies want him to stop insul...   \n",
       "25  With ‘Cancer Moonshot’ announcement, Biden tur...   \n",
       "26  House blasted with water after contractor’s mi...   \n",
       "\n",
       "                                          description  \\\n",
       "0   India News:  The Army is now exploring the pos...   \n",
       "1   IPL Live Score: Mumbai Indians seek consistenc...   \n",
       "2   India News: Drug firm Zydus Cadila on Friday s...   \n",
       "3   India News: Bodies piling up at crematoriums a...   \n",
       "4   India News: The government on Friday announced...   \n",
       "5   India News: Delhi chief minister Arvind Kejriw...   \n",
       "6   In yet another grim milestone, India recorded ...   \n",
       "7   The girl was in the UK capital on holiday when...   \n",
       "8   Trump will speak in North Carolina after the U...   \n",
       "9   Stonehenge's famous Altar Stone came from Scot...   \n",
       "10  Skai Jackson, known for her role as Zuri Ross ...   \n",
       "11  The Paris public prosecutor's office says it h...   \n",
       "12  Erosion and changing water levels may have con...   \n",
       "13  The entertainment giant says the terms of a fr...   \n",
       "14  Critics call the vice-president a \"failed bord...   \n",
       "15  The person who was killed worked at a remote r...   \n",
       "16  The rape and murder of a female doctor in Indi...   \n",
       "17  CNN’s Dr. Sanjay Gupta reports on a study link...   \n",
       "18  Having closed its borders to most tourism duri...   \n",
       "19  Mars has agreed to buy Kellanova in a deal tha...   \n",
       "20  Hunter Biden has brought on a new, high-profil...   \n",
       "21  A judge barred an indicted, election-denying l...   \n",
       "22  Supreme Court Justice Neil Gorsuch is using a ...   \n",
       "23  CNN’s Kaitlan Collins shares her experience of...   \n",
       "24  CNN political commentator SE Cupp discusses wh...   \n",
       "25  President Joe Biden’s first public event plann...   \n",
       "26  A home in Edison, New Jersey was deluged with ...   \n",
       "\n",
       "                                                  url              source  \n",
       "0   http://timesofindia.indiatimes.com/india/army-...  the-times-of-india  \n",
       "1   http://timesofindia.indiatimes.com/sports/cric...  the-times-of-india  \n",
       "2   http://timesofindia.indiatimes.com/india/zydus...  the-times-of-india  \n",
       "3   http://timesofindia.indiatimes.com/india/even-...  the-times-of-india  \n",
       "4   http://timesofindia.indiatimes.com/india/gover...  the-times-of-india  \n",
       "5   http://timesofindia.indiatimes.com/india/delhi...  the-times-of-india  \n",
       "6   http://timesofindia.indiatimes.com/india/coron...  the-times-of-india  \n",
       "7    https://www.bbc.co.uk/news/articles/cgm71zynrm9o            bbc-news  \n",
       "8    https://www.bbc.co.uk/news/articles/c8xlq0rg4yzo            bbc-news  \n",
       "9    https://www.bbc.co.uk/news/articles/c207lqdn755o            bbc-news  \n",
       "10   https://www.bbc.co.uk/news/articles/c4gzd87w6n0o            bbc-news  \n",
       "11   https://www.bbc.co.uk/news/articles/cm2njjm4e2po            bbc-news  \n",
       "12   https://www.bbc.co.uk/news/articles/cdrly780lzlo            bbc-news  \n",
       "13   https://www.bbc.co.uk/news/articles/c8jl0ekjr0go            bbc-news  \n",
       "14   https://www.bbc.co.uk/news/articles/c3gdjjlydp4o            bbc-news  \n",
       "15   https://www.bbc.co.uk/news/articles/cgq20qd59yyo            bbc-news  \n",
       "16   https://www.bbc.co.uk/news/articles/c93pqq9r5n4o            bbc-news  \n",
       "17  https://www.cnn.com/2024/08/14/health/video/ne...                 cnn  \n",
       "18  https://www.cnn.com/2024/08/14/travel/north-ko...                 cnn  \n",
       "19  https://www.cnn.com/2024/08/14/business/mars-b...                 cnn  \n",
       "20  https://www.cnn.com/2024/08/14/politics/hunter...                 cnn  \n",
       "21  https://www.cnn.com/2024/08/14/politics/stefan...                 cnn  \n",
       "22  https://www.cnn.com/2024/08/14/politics/neil-g...                 cnn  \n",
       "23  https://www.cnn.com/2024/08/13/politics/video/...                 cnn  \n",
       "24  https://www.cnn.com/2024/08/13/opinions/video/...                 cnn  \n",
       "25  https://www.cnn.com/2024/08/13/politics/biden-...                 cnn  \n",
       "26  https://www.cnn.com/2024/08/13/us/video/edison...                 cnn  "
      ]
     },
     "execution_count": 10,
     "metadata": {},
     "output_type": "execute_result"
    }
   ],
   "source": [
    "df\n"
   ]
  },
  {
   "cell_type": "markdown",
   "metadata": {},
   "source": [
    "**Recommendation Generation Using GPT2**"
   ]
  },
  {
   "cell_type": "code",
   "execution_count": 11,
   "metadata": {},
   "outputs": [
    {
     "data": {
      "application/vnd.jupyter.widget-view+json": {
       "model_id": "eeb59fb29b0e495e9d87111c307f55bb",
       "version_major": 2,
       "version_minor": 0
      },
      "text/plain": [
       "tokenizer_config.json:   0%|          | 0.00/26.0 [00:00<?, ?B/s]"
      ]
     },
     "metadata": {},
     "output_type": "display_data"
    },
    {
     "name": "stderr",
     "output_type": "stream",
     "text": [
      "c:\\Users\\amamo\\anaconda3\\Lib\\site-packages\\huggingface_hub\\file_download.py:159: UserWarning: `huggingface_hub` cache-system uses symlinks by default to efficiently store duplicated files but your machine does not support them in C:\\Users\\amamo\\.cache\\huggingface\\hub\\models--gpt2. Caching files will still work but in a degraded version that might require more space on your disk. This warning can be disabled by setting the `HF_HUB_DISABLE_SYMLINKS_WARNING` environment variable. For more details, see https://huggingface.co/docs/huggingface_hub/how-to-cache#limitations.\n",
      "To support symlinks on Windows, you either need to activate Developer Mode or to run Python as an administrator. In order to see activate developer mode, see this article: https://docs.microsoft.com/en-us/windows/apps/get-started/enable-your-device-for-development\n",
      "  warnings.warn(message)\n"
     ]
    },
    {
     "data": {
      "application/vnd.jupyter.widget-view+json": {
       "model_id": "f8af35b6a5e5482795eb2cc4834855ab",
       "version_major": 2,
       "version_minor": 0
      },
      "text/plain": [
       "vocab.json:   0%|          | 0.00/1.04M [00:00<?, ?B/s]"
      ]
     },
     "metadata": {},
     "output_type": "display_data"
    },
    {
     "data": {
      "application/vnd.jupyter.widget-view+json": {
       "model_id": "02345b392dc14fbb9ba2dd480b16063f",
       "version_major": 2,
       "version_minor": 0
      },
      "text/plain": [
       "merges.txt:   0%|          | 0.00/456k [00:00<?, ?B/s]"
      ]
     },
     "metadata": {},
     "output_type": "display_data"
    },
    {
     "data": {
      "application/vnd.jupyter.widget-view+json": {
       "model_id": "445b65bfa7aa46428240ef7c164981eb",
       "version_major": 2,
       "version_minor": 0
      },
      "text/plain": [
       "tokenizer.json:   0%|          | 0.00/1.36M [00:00<?, ?B/s]"
      ]
     },
     "metadata": {},
     "output_type": "display_data"
    },
    {
     "data": {
      "application/vnd.jupyter.widget-view+json": {
       "model_id": "6806e0638cd24bf38a41618a95ab6247",
       "version_major": 2,
       "version_minor": 0
      },
      "text/plain": [
       "config.json:   0%|          | 0.00/665 [00:00<?, ?B/s]"
      ]
     },
     "metadata": {},
     "output_type": "display_data"
    },
    {
     "name": "stderr",
     "output_type": "stream",
     "text": [
      "c:\\Users\\amamo\\anaconda3\\Lib\\site-packages\\transformers\\tokenization_utils_base.py:1601: FutureWarning: `clean_up_tokenization_spaces` was not set. It will be set to `True` by default. This behavior will be depracted in transformers v4.45, and will be then set to `False` by default. For more details check this issue: https://github.com/huggingface/transformers/issues/31884\n",
      "  warnings.warn(\n"
     ]
    },
    {
     "data": {
      "application/vnd.jupyter.widget-view+json": {
       "model_id": "27e01f446d2b46e190466f4d69475b0d",
       "version_major": 2,
       "version_minor": 0
      },
      "text/plain": [
       "model.safetensors:   0%|          | 0.00/548M [00:00<?, ?B/s]"
      ]
     },
     "metadata": {},
     "output_type": "display_data"
    },
    {
     "data": {
      "application/vnd.jupyter.widget-view+json": {
       "model_id": "66b5380670c740d08f31e6f6a42d8495",
       "version_major": 2,
       "version_minor": 0
      },
      "text/plain": [
       "generation_config.json:   0%|          | 0.00/124 [00:00<?, ?B/s]"
      ]
     },
     "metadata": {},
     "output_type": "display_data"
    }
   ],
   "source": [
    "# Load the GPT-2 model and tokenizer\n",
    "model_name = \"gpt2\"  # You can use \"gpt2-medium\" or other variants for different sizes\n",
    "tokenizer = GPT2Tokenizer.from_pretrained(model_name)\n",
    "model = GPT2LMHeadModel.from_pretrained(model_name)\n"
   ]
  },
  {
   "cell_type": "code",
   "execution_count": 12,
   "metadata": {},
   "outputs": [],
   "source": [
    "def generate_recommendations(prompt, max_length=100):\n",
    "    # Tokenize the prompt and generate text\n",
    "    input_ids = tokenizer.encode(prompt, return_tensors=\"pt\", add_special_tokens=True)\n",
    "\n",
    "    # Suppress the warning messages\n",
    "    with warnings.catch_warnings(), contextlib.redirect_stderr(None):\n",
    "        warnings.simplefilter(\"ignore\")\n",
    "        outputs = model.generate(input_ids, max_length=max_length, no_repeat_ngram_size=2, num_return_sequences=1, do_sample=False)\n",
    "\n",
    "    # Decode and return the recommendation\n",
    "    recommendation = tokenizer.decode(outputs[0], skip_special_tokens=True)\n",
    "    return recommendation\n"
   ]
  },
  {
   "cell_type": "code",
   "execution_count": 13,
   "metadata": {},
   "outputs": [
    {
     "name": "stderr",
     "output_type": "stream",
     "text": [
      "The attention mask and the pad token id were not set. As a consequence, you may observe unexpected behavior. Please pass your input's `attention_mask` to obtain reliable results.\n",
      "Setting `pad_token_id` to `eos_token_id`:50256 for open-end generation.\n",
      "The attention mask is not set and cannot be inferred from input because pad token is same as eos token. As a consequence, you may observe unexpected behavior. Please pass your input's `attention_mask` to obtain reliable results.\n",
      "The attention mask and the pad token id were not set. As a consequence, you may observe unexpected behavior. Please pass your input's `attention_mask` to obtain reliable results.\n",
      "Setting `pad_token_id` to `eos_token_id`:50256 for open-end generation.\n"
     ]
    },
    {
     "name": "stdout",
     "output_type": "stream",
     "text": [
      "Recommendation for Army explores procurement of 350 light tanks for mountainous terrain after border standoff with China (the-times-of-india):\n",
      "Please recommend a news article about Army explores procurement of 350 light tanks for mountainous terrain after border standoff with China from the-times-of-india with the following description: India News:  The Army is now exploring the possibility of procuring 350 light tanks, which can also be transported by air, to augment its firepower in high-altitu terrain. The Indian Army has been conducting a series of high altitude reconnaissance missions over the Himalayas, and has conducted reconnaissance flights over India's border\n",
      "\n"
     ]
    },
    {
     "name": "stderr",
     "output_type": "stream",
     "text": [
      "The attention mask and the pad token id were not set. As a consequence, you may observe unexpected behavior. Please pass your input's `attention_mask` to obtain reliable results.\n",
      "Setting `pad_token_id` to `eos_token_id`:50256 for open-end generation.\n"
     ]
    },
    {
     "name": "stdout",
     "output_type": "stream",
     "text": [
      "Recommendation for PBKS vs MI Live Score, IPL 2021: Mumbai Indians seek consistency; Punjab Kings eye return to winning ways (the-times-of-india):\n",
      "Please recommend a news article about PBKS vs MI Live Score, IPL 2021: Mumbai Indians seek consistency; Punjab Kings eye return to winning ways from the-times-of-india with the following description: IPL Live Score: Mumbai Indians seek consistency; Punjab Kings eye return to winning ways. Stay with TOI to get IPL live score, playing 11, scorecard, highlights and ball by ball score updates of the 17th IPL match between Punjab Kings and Mumbai Indians.\n",
      "\n",
      "\n"
     ]
    },
    {
     "name": "stderr",
     "output_type": "stream",
     "text": [
      "The attention mask and the pad token id were not set. As a consequence, you may observe unexpected behavior. Please pass your input's `attention_mask` to obtain reliable results.\n",
      "Setting `pad_token_id` to `eos_token_id`:50256 for open-end generation.\n"
     ]
    },
    {
     "name": "stdout",
     "output_type": "stream",
     "text": [
      "Recommendation for Zydus Cadila gets DCGI nod for hepatitis drug for Covid-19 treatment (the-times-of-india):\n",
      "Please recommend a news article about Zydus Cadila gets DCGI nod for hepatitis drug for Covid-19 treatment from the-times-of-india with the following description: India News: Drug firm Zydus Cadila on Friday said it has received restricted emergency use approval from the Indian drug regulator for the use of Pegylated Interfacial (PIE) in the treatment of hepatitis C. The company said the drug is being used in a clinical trial in India. \"\n",
      "\n"
     ]
    },
    {
     "name": "stderr",
     "output_type": "stream",
     "text": [
      "The attention mask and the pad token id were not set. As a consequence, you may observe unexpected behavior. Please pass your input's `attention_mask` to obtain reliable results.\n",
      "Setting `pad_token_id` to `eos_token_id`:50256 for open-end generation.\n"
     ]
    },
    {
     "name": "stdout",
     "output_type": "stream",
     "text": [
      "Recommendation for Even record death toll may hide extent of India’s Covid crisis (the-times-of-india):\n",
      "Please recommend a news article about Even record death toll may hide extent of India’s Covid crisis from the-times-of-india with the following description: India News: Bodies piling up at crematoriums and burial grounds across India are sparking concerns that the death toll from a ferocious new Covid-19 wave may be m.o.\n",
      "\n",
      "The death of a man who was found dead in a crematoria in the city of Hyderabad on Saturday has raised fears\n",
      "\n"
     ]
    },
    {
     "name": "stderr",
     "output_type": "stream",
     "text": [
      "The attention mask and the pad token id were not set. As a consequence, you may observe unexpected behavior. Please pass your input's `attention_mask` to obtain reliable results.\n",
      "Setting `pad_token_id` to `eos_token_id`:50256 for open-end generation.\n"
     ]
    },
    {
     "name": "stdout",
     "output_type": "stream",
     "text": [
      "Recommendation for Government to provide 5 kg free food grains to poor for May & June (the-times-of-india):\n",
      "Please recommend a news article about Government to provide 5 kg free food grains to poor for May & June from the-times-of-india with the following description: India News: The government on Friday announced to provide 5 kg free food grains to the poor for May and June 2021. This will cover nearly 80 crore beneficiaries u.s. and their families. The food will be provided by the government to those who are in need of food. It will also be available to all the beneficiaries of\n",
      "\n"
     ]
    },
    {
     "name": "stderr",
     "output_type": "stream",
     "text": [
      "The attention mask and the pad token id were not set. As a consequence, you may observe unexpected behavior. Please pass your input's `attention_mask` to obtain reliable results.\n",
      "Setting `pad_token_id` to `eos_token_id`:50256 for open-end generation.\n"
     ]
    },
    {
     "name": "stdout",
     "output_type": "stream",
     "text": [
      "Recommendation for 'Inappropriate': PM Modi objects to 'protocol break' during meeting; Delhi CM expresses regret (the-times-of-india):\n",
      "Please recommend a news article about 'Inappropriate': PM Modi objects to 'protocol break' during meeting; Delhi CM expresses regret from the-times-of-india with the following description: India News: Delhi chief minister Arvind Kejriwal on Friday faced flak for sharing a live telecast of an \"in-house\" meeting with Prime Minister Narendra Modi where he was asked to explain his decision to not attend the meeting. \"I am not going to attend this meeting because I am a\n",
      "\n"
     ]
    },
    {
     "name": "stderr",
     "output_type": "stream",
     "text": [
      "The attention mask and the pad token id were not set. As a consequence, you may observe unexpected behavior. Please pass your input's `attention_mask` to obtain reliable results.\n",
      "Setting `pad_token_id` to `eos_token_id`:50256 for open-end generation.\n"
     ]
    },
    {
     "name": "stdout",
     "output_type": "stream",
     "text": [
      "Recommendation for Coronavirus in India live updates: Zydus' Virafin gets DCGI nod for Covid treatment (the-times-of-india):\n",
      "Please recommend a news article about Coronavirus in India live updates: Zydus' Virafin gets DCGI nod for Covid treatment from the-times-of-india with the following description: In yet another grim milestone, India recorded 3.3 lakh new Covid-19 cases, and 2,263 deaths in a day. Meanwhile, active cases crossed the 24-lakh marathi threshold, which is the highest in the world.\n",
      "\n",
      "The latest figures show\n",
      "\n"
     ]
    },
    {
     "name": "stderr",
     "output_type": "stream",
     "text": [
      "The attention mask and the pad token id were not set. As a consequence, you may observe unexpected behavior. Please pass your input's `attention_mask` to obtain reliable results.\n",
      "Setting `pad_token_id` to `eos_token_id`:50256 for open-end generation.\n"
     ]
    },
    {
     "name": "stdout",
     "output_type": "stream",
     "text": [
      "Recommendation for London stabbing victim is 11-year-old Australian tourist (bbc-news):\n",
      "Please recommend a news article about London stabbing victim is 11-year-old Australian tourist from bbc-news with the following description: The girl was in the UK capital on holiday when she and her mother were attacked in Leicester Square. The attack happened at around 11.30pm on Saturday.\n",
      "\n",
      "The victim was taken to hospital with a serious head injury. She was later released on bail.\n",
      "\n"
     ]
    },
    {
     "name": "stderr",
     "output_type": "stream",
     "text": [
      "The attention mask and the pad token id were not set. As a consequence, you may observe unexpected behavior. Please pass your input's `attention_mask` to obtain reliable results.\n",
      "Setting `pad_token_id` to `eos_token_id`:50256 for open-end generation.\n"
     ]
    },
    {
     "name": "stdout",
     "output_type": "stream",
     "text": [
      "Recommendation for Trump to tout economic plan after union rights row (bbc-news):\n",
      "Please recommend a news article about Trump to tout economic plan after union rights row from bbc-news with the following description: Trump will speak in North Carolina after the United Automobile Workers filed charges with federal labour regulators. The union has been fighting the union's efforts to force the state to pay union dues.\n",
      "\n",
      "The union is demanding that the UAW and the National Labor Relations Board (NLRB) investigate the allegations. It is also demanding the NLRB's decision to dismiss the case\n",
      "\n"
     ]
    },
    {
     "name": "stderr",
     "output_type": "stream",
     "text": [
      "The attention mask and the pad token id were not set. As a consequence, you may observe unexpected behavior. Please pass your input's `attention_mask` to obtain reliable results.\n",
      "Setting `pad_token_id` to `eos_token_id`:50256 for open-end generation.\n"
     ]
    },
    {
     "name": "stdout",
     "output_type": "stream",
     "text": [
      "Recommendation for Stonehenge: Central Altar Stone from Scotland not Wales (bbc-news):\n",
      "Please recommend a news article about Stonehenge: Central Altar Stone from Scotland not Wales from bbc-news with the following description: Stonehenge's famous Altar Stone came from Scotland not Wales as previously thought, new analysis shows. The Stone is a large stone with a long, flat, curved, and curved edge. It is the oldest known Stone in the world. Stone was found in Scotland in 1859, but it was not found until 1871. In 1872, the\n",
      "\n"
     ]
    },
    {
     "name": "stderr",
     "output_type": "stream",
     "text": [
      "The attention mask and the pad token id were not set. As a consequence, you may observe unexpected behavior. Please pass your input's `attention_mask` to obtain reliable results.\n",
      "Setting `pad_token_id` to `eos_token_id`:50256 for open-end generation.\n"
     ]
    },
    {
     "name": "stdout",
     "output_type": "stream",
     "text": [
      "Recommendation for Skai Jackson: Disney Channel star arrested at Universal Studios (bbc-news):\n",
      "Please recommend a news article about Skai Jackson: Disney Channel star arrested at Universal Studios from bbc-news with the following description: Skai Jackson, known for her role as Zuri Ross in the sitcom Jessie, was held at Universal Studios. She was arrested on suspicion of disorderly conduct and disorderly behavior.\n",
      "\n",
      "The incident happened at the Universal Orlando Studios, where Jackson was filming the upcoming \"The Princess and the Frog\" and was seen in a wheelchair. Jackson's lawyer, Michael J.\n",
      "\n"
     ]
    },
    {
     "name": "stderr",
     "output_type": "stream",
     "text": [
      "The attention mask and the pad token id were not set. As a consequence, you may observe unexpected behavior. Please pass your input's `attention_mask` to obtain reliable results.\n",
      "Setting `pad_token_id` to `eos_token_id`:50256 for open-end generation.\n"
     ]
    },
    {
     "name": "stdout",
     "output_type": "stream",
     "text": [
      "Recommendation for JK Rowling and Elon Musk reportedly named in Imane Khelif lawsuit (bbc-news):\n",
      "Please recommend a news article about JK Rowling and Elon Musk reportedly named in Imane Khelif lawsuit from bbc-news with the following description: The Paris public prosecutor's office says it has launched a cyberbullying probe.\n",
      "\n",
      "The news comes after a number of celebrities including Harry Potter star Harry Styles, who has been accused of bullying a young girl, have been named as defendants in a lawsuit filed by the actress. The lawsuit, which was filed in the U.S.\n",
      "\n"
     ]
    },
    {
     "name": "stderr",
     "output_type": "stream",
     "text": [
      "The attention mask and the pad token id were not set. As a consequence, you may observe unexpected behavior. Please pass your input's `attention_mask` to obtain reliable results.\n",
      "Setting `pad_token_id` to `eos_token_id`:50256 for open-end generation.\n"
     ]
    },
    {
     "name": "stdout",
     "output_type": "stream",
     "text": [
      "Recommendation for Utah's famous 'Double Arch' rock collapses (bbc-news):\n",
      "Please recommend a news article about Utah's famous 'Double Arch' rock collapses from bbc-news with the following description: Erosion and changing water levels may have contributed to the collapse of the popular tourist site.\n",
      "\n",
      "The rock, which is about 1,000 feet high, was discovered in the fall of 2013. It was found in a shallow area of a canyon in Utah. The rock was about 2 feet deep and was covered in mud. A team of geologists from the University\n",
      "\n"
     ]
    },
    {
     "name": "stderr",
     "output_type": "stream",
     "text": [
      "The attention mask and the pad token id were not set. As a consequence, you may observe unexpected behavior. Please pass your input's `attention_mask` to obtain reliable results.\n",
      "Setting `pad_token_id` to `eos_token_id`:50256 for open-end generation.\n"
     ]
    },
    {
     "name": "stdout",
     "output_type": "stream",
     "text": [
      "Recommendation for Disney+ terms prevent allergy death lawsuit, Disney says (bbc-news):\n",
      "Please recommend a news article about Disney+ terms prevent allergy death lawsuit, Disney says from bbc-news with the following description: The entertainment giant says the terms of a free trial prevent it from being sued for wrongful death.\n",
      "\n",
      "The terms are:\n",
      "...\n",
      ",\n",
      " (a) The terms prohibit the use of any of the words \"Disney\" or \"Frozen\" in any way, shape, or form, including, but not limited to, the word \"frozen\n",
      "\n"
     ]
    },
    {
     "name": "stderr",
     "output_type": "stream",
     "text": [
      "The attention mask and the pad token id were not set. As a consequence, you may observe unexpected behavior. Please pass your input's `attention_mask` to obtain reliable results.\n",
      "Setting `pad_token_id` to `eos_token_id`:50256 for open-end generation.\n"
     ]
    },
    {
     "name": "stdout",
     "output_type": "stream",
     "text": [
      "Recommendation for Trump attacks Harris over US border policing – was it her job? (bbc-news):\n",
      "Please recommend a news article about Trump attacks Harris over US border policing – was it her job? from bbc-news with the following description: Critics call the vice-president a \"failed border tsar\" - but supporters say that was not her mission.\n",
      "\n",
      "\"I'm not a politician,\" she said. \"I don't have a job. I'm a journalist. And I don\n",
      "... I've been a reporter for a long time. But I have to say,\n",
      "\n"
     ]
    },
    {
     "name": "stderr",
     "output_type": "stream",
     "text": [
      "The attention mask and the pad token id were not set. As a consequence, you may observe unexpected behavior. Please pass your input's `attention_mask` to obtain reliable results.\n",
      "Setting `pad_token_id` to `eos_token_id`:50256 for open-end generation.\n"
     ]
    },
    {
     "name": "stdout",
     "output_type": "stream",
     "text": [
      "Recommendation for Two polar bears kill Arctic Canadian worker in rare attack (bbc-news):\n",
      "Please recommend a news article about Two polar bears kill Arctic Canadian worker in rare attack from bbc-news with the following description: The person who was killed worked at a remote radar site in Canada's Arctic region. The man was working for a company that was trying to develop a new radar system for the Arctic. He was attacked by two polar bear cubs.\n",
      "\n",
      "The man, who is now in his mid-30s, was a polar cub who had been living in the area for\n",
      "\n"
     ]
    },
    {
     "name": "stderr",
     "output_type": "stream",
     "text": [
      "The attention mask and the pad token id were not set. As a consequence, you may observe unexpected behavior. Please pass your input's `attention_mask` to obtain reliable results.\n",
      "Setting `pad_token_id` to `eos_token_id`:50256 for open-end generation.\n"
     ]
    },
    {
     "name": "stdout",
     "output_type": "stream",
     "text": [
      "Recommendation for Kolkata doctor's rape and murder in hospital alarm India (bbc-news):\n",
      "Please recommend a news article about Kolkata doctor's rape and murder in hospital alarm India from bbc-news with the following description: The rape and murder of a female doctor in India highlight the violence against healthcare workers. The doctor, who was a nurse, was raped and murdered by her husband, a doctor from the state of Karnataka. She was found dead in her home in the city of Kailash, in a state where the government has been trying to curb the spread of HIV\n",
      "\n"
     ]
    },
    {
     "name": "stderr",
     "output_type": "stream",
     "text": [
      "The attention mask and the pad token id were not set. As a consequence, you may observe unexpected behavior. Please pass your input's `attention_mask` to obtain reliable results.\n",
      "Setting `pad_token_id` to `eos_token_id`:50256 for open-end generation.\n"
     ]
    },
    {
     "name": "stdout",
     "output_type": "stream",
     "text": [
      "Recommendation for Dr. Sanjay Gupta discusses the complexities of artificial sweeteners | CNN (cnn):\n",
      "Please recommend a news article about Dr. Sanjay Gupta discusses the complexities of artificial sweeteners | CNN from cnn with the following description: CNN’s Dr. Sanjay Gupta reports on a study linking the sugar substitute erythritol to a higher risk of blood clots and heart disease. The study, published in the journal Heart, was conducted by the National Heart Lung Institute and the University of California, San Francisco. Gupta, a professor of medicine at the UCSF School of\n",
      "\n"
     ]
    },
    {
     "name": "stderr",
     "output_type": "stream",
     "text": [
      "The attention mask and the pad token id were not set. As a consequence, you may observe unexpected behavior. Please pass your input's `attention_mask` to obtain reliable results.\n",
      "Setting `pad_token_id` to `eos_token_id`:50256 for open-end generation.\n"
     ]
    },
    {
     "name": "stdout",
     "output_type": "stream",
     "text": [
      "Recommendation for North Korea will reopen to international tourism this winter, tour operators say (cnn):\n",
      "Please recommend a news article about North Korea will reopen to international tourism this winter, tour operators say from cnn with the following description: Having closed its borders to most tourism during Covid, North Korea is finally reopening, according to two tour companies with connections to the isolated country.\n",
      "\n",
      "\"We are now able to open our doors to tourists from North Korean countries,\" said a tour operator with a North Koreans-only name. \"We have been able for a long time to get a good\n",
      "\n"
     ]
    },
    {
     "name": "stderr",
     "output_type": "stream",
     "text": [
      "The attention mask and the pad token id were not set. As a consequence, you may observe unexpected behavior. Please pass your input's `attention_mask` to obtain reliable results.\n",
      "Setting `pad_token_id` to `eos_token_id`:50256 for open-end generation.\n"
     ]
    },
    {
     "name": "stdout",
     "output_type": "stream",
     "text": [
      "Recommendation for Mars agrees to buy Pringles maker Kellanova in $36 billion deal (cnn):\n",
      "Please recommend a news article about Mars agrees to buy Pringles maker Kellanova in $36 billion deal from cnn with the following description: Mars has agreed to buy Kellanova in a deal that values the maker of Cheez-It and Pringles at almost $29 billion. The deal is valued at $37 billion, according to the Wall Street Journal.\n",
      "\n",
      "The deal comes after the company announced it was buying Mars for $1.5 billion in 2014. Mars is the first\n",
      "\n"
     ]
    },
    {
     "name": "stderr",
     "output_type": "stream",
     "text": [
      "The attention mask and the pad token id were not set. As a consequence, you may observe unexpected behavior. Please pass your input's `attention_mask` to obtain reliable results.\n",
      "Setting `pad_token_id` to `eos_token_id`:50256 for open-end generation.\n"
     ]
    },
    {
     "name": "stdout",
     "output_type": "stream",
     "text": [
      "Recommendation for Hunter Biden retains new lawyer ahead of trial on tax charges after plea talks stall (cnn):\n",
      "Please recommend a news article about Hunter Biden retains new lawyer ahead of trial on tax charges after plea talks stall from cnn with the following description: Hunter Biden has brought on a new, high-profile criminal defense lawyer to lead him through his tax evasion trial in the coming weeks, after discussions this summer with the special counsel who brought the case didn’t yield a plea deal. The New York Times reports that the lawyer, David Kendall, is expected to be named in a criminal indictment against\n",
      "\n"
     ]
    },
    {
     "name": "stderr",
     "output_type": "stream",
     "text": [
      "The attention mask and the pad token id were not set. As a consequence, you may observe unexpected behavior. Please pass your input's `attention_mask` to obtain reliable results.\n",
      "Setting `pad_token_id` to `eos_token_id`:50256 for open-end generation.\n"
     ]
    },
    {
     "name": "stdout",
     "output_type": "stream",
     "text": [
      "Recommendation for Judge removes election-denying lawyer from Dominion defamation case for ‘egregious misconduct’ (cnn):\n",
      "Please recommend a news article about Judge removes election-denying lawyer from Dominion defamation case for ‘egregious misconduct’ from cnn with the following description: A judge barred an indicted, election-denying lawyer from being involved in one of Dominion Voting Systems’ 2020 election defamation cases after she publicly leaked the company’s internal emails.\n",
      "\n",
      "The judge's decision was based on a complaint filed by a former Dominion employee who was fired after he exposed the firm's fraud and\n",
      "\n"
     ]
    },
    {
     "name": "stderr",
     "output_type": "stream",
     "text": [
      "The attention mask and the pad token id were not set. As a consequence, you may observe unexpected behavior. Please pass your input's `attention_mask` to obtain reliable results.\n",
      "Setting `pad_token_id` to `eos_token_id`:50256 for open-end generation.\n"
     ]
    },
    {
     "name": "stdout",
     "output_type": "stream",
     "text": [
      "Recommendation for As Justice Gorsuch rails against federal rules, some profiled in his new book embrace more measured view (cnn):\n",
      "Please recommend a news article about As Justice Gorsuch rails against federal rules, some profiled in his new book embrace more measured view from cnn with the following description: Supreme Court Justice Neil Gorsuch is using a new book to lament what he sees as an explosion of government rules he fears is having serious consequences for the “lives and liberties of every American.”\n",
      "\n",
      "The book is titled \"The Supreme Judicial Review: The Case for a New Judicial System,\" and it is a fascinating read\n",
      "\n"
     ]
    },
    {
     "name": "stderr",
     "output_type": "stream",
     "text": [
      "The attention mask and the pad token id were not set. As a consequence, you may observe unexpected behavior. Please pass your input's `attention_mask` to obtain reliable results.\n",
      "Setting `pad_token_id` to `eos_token_id`:50256 for open-end generation.\n"
     ]
    },
    {
     "name": "stdout",
     "output_type": "stream",
     "text": [
      "Recommendation for Kaitlan Collins describes her Uber driver’s reaction to hearing her talking with Trump | CNN Politics (cnn):\n",
      "Please recommend a news article about Kaitlan Collins describes her Uber driver’s reaction to hearing her talking with Trump | CNN Politics from cnn with the following description: CNN’s Kaitlan Collins shares her experience of catching an Uber driver off guard by calling former President Donald Trump from the backseat of his vehicle.\n",
      "\n",
      "\"I was driving my car and I heard a guy say, 'Hey, you're a Trump supporter,'\" Collins said. \"I said, \"Well\n",
      "\n"
     ]
    },
    {
     "name": "stderr",
     "output_type": "stream",
     "text": [
      "The attention mask and the pad token id were not set. As a consequence, you may observe unexpected behavior. Please pass your input's `attention_mask` to obtain reliable results.\n",
      "Setting `pad_token_id` to `eos_token_id`:50256 for open-end generation.\n"
     ]
    },
    {
     "name": "stdout",
     "output_type": "stream",
     "text": [
      "Recommendation for Video: Key Trump allies want him to stop insulting Harris | CNN (cnn):\n",
      "Please recommend a news article about Video: Key Trump allies want him to stop insulting Harris | CNN from cnn with the following description: CNN political commentator SE Cupp discusses why former President Donald Trump’s allies, including Peter Navarro and Kellyanne Conway, are urging him to stop insulting Kamala Harris. Cupp argues that such comments could negatively impact his support, especiall… https://t.co/9QXQzQ9X9o — CNN Politics\n",
      "\n"
     ]
    },
    {
     "name": "stderr",
     "output_type": "stream",
     "text": [
      "The attention mask and the pad token id were not set. As a consequence, you may observe unexpected behavior. Please pass your input's `attention_mask` to obtain reliable results.\n",
      "Setting `pad_token_id` to `eos_token_id`:50256 for open-end generation.\n"
     ]
    },
    {
     "name": "stdout",
     "output_type": "stream",
     "text": [
      "Recommendation for With ‘Cancer Moonshot’ announcement, Biden turns to causes most important to him in final months in office (cnn):\n",
      "Please recommend a news article about With ‘Cancer Moonshot’ announcement, Biden turns to causes most important to him in final months in office from cnn with the following description: President Joe Biden’s first public event planned since his exit from the 2024 race last month marked a cause close to home: Announcing a major financial award from the cancer-curing policy arm he created in the wake of his son Beau Biden’s death. The announcement was made on the\n",
      "\n",
      "Recommendation for House blasted with water after contractor’s mistake | CNN (cnn):\n",
      "Please recommend a news article about House blasted with water after contractor’s mistake | CNN from cnn with the following description: A home in Edison, New Jersey was deluged with water after an apparent contractor mistake.\n",
      "\n",
      "The water was found in a home on the 400 block of West Main Street, according to the Edison Police Department. The home was not damaged, but the contractor was able to get the water out of the home. A water company was called to clean up the mess\n",
      "\n"
     ]
    }
   ],
   "source": [
    "# Example usage with your DataFrame\n",
    "for index, row in df.iterrows():\n",
    "    user_prompt = f\"Please recommend a news article about {row['title']} from {row['source']} with the following description: {row['description']}\"\n",
    "    recommendation = generate_recommendations(user_prompt)\n",
    "    print(f\"Recommendation for {row['title']} ({row['source']}):\\n{recommendation}\\n\")\n"
   ]
  }
 ],
 "metadata": {
  "kernelspec": {
   "display_name": "base",
   "language": "python",
   "name": "python3"
  },
  "language_info": {
   "codemirror_mode": {
    "name": "ipython",
    "version": 3
   },
   "file_extension": ".py",
   "mimetype": "text/x-python",
   "name": "python",
   "nbconvert_exporter": "python",
   "pygments_lexer": "ipython3",
   "version": "3.12.4"
  }
 },
 "nbformat": 4,
 "nbformat_minor": 2
}
