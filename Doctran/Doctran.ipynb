{
 "cells": [
  {
   "cell_type": "markdown",
   "metadata": {},
   "source": [
    "# **Doctran Using OpenAI GPT**"
   ]
  },
  {
   "cell_type": "markdown",
   "metadata": {},
   "source": [
    "**Install Libraries**"
   ]
  },
  {
   "cell_type": "code",
   "execution_count": 1,
   "metadata": {},
   "outputs": [
    {
     "name": "stdout",
     "output_type": "stream",
     "text": [
      "Collecting doctran\n",
      "  Downloading doctran-0.0.14-py3-none-any.whl.metadata (8.6 kB)\n",
      "Collecting lxml<5.0.0,>=4.9.2 (from doctran)\n",
      "  Downloading lxml-4.9.4-cp312-cp312-win_amd64.whl.metadata (3.8 kB)\n",
      "Collecting openai<0.28.0,>=0.27.8 (from doctran)\n",
      "  Downloading openai-0.27.10-py3-none-any.whl.metadata (13 kB)\n",
      "Collecting presidio-analyzer<3.0.0,>=2.2.33 (from doctran)\n",
      "  Downloading presidio_analyzer-2.2.355-py3-none-any.whl.metadata (2.9 kB)\n",
      "Collecting presidio-anonymizer<3.0.0,>=2.2.33 (from doctran)\n",
      "  Downloading presidio_anonymizer-2.2.355-py3-none-any.whl.metadata (8.2 kB)\n",
      "Collecting pydantic<2.0.0,>=1.10.9 (from doctran)\n",
      "  Downloading pydantic-1.10.17-cp312-cp312-win_amd64.whl.metadata (153 kB)\n",
      "Collecting spacy<4.0.0,>=3.5.4 (from doctran)\n",
      "  Downloading spacy-3.7.5-cp312-cp312-win_amd64.whl.metadata (27 kB)\n",
      "Collecting tiktoken<0.6.0,>=0.5.0 (from doctran)\n",
      "  Downloading tiktoken-0.5.2-cp312-cp312-win_amd64.whl.metadata (6.8 kB)\n",
      "Requirement already satisfied: requests>=2.20 in c:\\users\\amamo\\anaconda3\\lib\\site-packages (from openai<0.28.0,>=0.27.8->doctran) (2.32.2)\n",
      "Requirement already satisfied: tqdm in c:\\users\\amamo\\anaconda3\\lib\\site-packages (from openai<0.28.0,>=0.27.8->doctran) (4.66.4)\n",
      "Requirement already satisfied: aiohttp in c:\\users\\amamo\\anaconda3\\lib\\site-packages (from openai<0.28.0,>=0.27.8->doctran) (3.9.5)\n",
      "Collecting phonenumbers<9.0.0,>=8.12 (from presidio-analyzer<3.0.0,>=2.2.33->doctran)\n",
      "  Downloading phonenumbers-8.13.43-py2.py3-none-any.whl.metadata (10 kB)\n",
      "Requirement already satisfied: pyyaml in c:\\users\\amamo\\anaconda3\\lib\\site-packages (from presidio-analyzer<3.0.0,>=2.2.33->doctran) (6.0.1)\n",
      "Requirement already satisfied: regex in c:\\users\\amamo\\anaconda3\\lib\\site-packages (from presidio-analyzer<3.0.0,>=2.2.33->doctran) (2023.10.3)\n",
      "Requirement already satisfied: tldextract in c:\\users\\amamo\\anaconda3\\lib\\site-packages (from presidio-analyzer<3.0.0,>=2.2.33->doctran) (3.2.0)\n",
      "Collecting azure-core (from presidio-anonymizer<3.0.0,>=2.2.33->doctran)\n",
      "  Downloading azure_core-1.30.2-py3-none-any.whl.metadata (37 kB)\n",
      "Collecting pycryptodome>=3.10.1 (from presidio-anonymizer<3.0.0,>=2.2.33->doctran)\n",
      "  Downloading pycryptodome-3.20.0-cp35-abi3-win_amd64.whl.metadata (3.4 kB)\n",
      "Requirement already satisfied: typing-extensions>=4.2.0 in c:\\users\\amamo\\anaconda3\\lib\\site-packages (from pydantic<2.0.0,>=1.10.9->doctran) (4.11.0)\n",
      "Collecting spacy-legacy<3.1.0,>=3.0.11 (from spacy<4.0.0,>=3.5.4->doctran)\n",
      "  Downloading spacy_legacy-3.0.12-py2.py3-none-any.whl.metadata (2.8 kB)\n",
      "Collecting spacy-loggers<2.0.0,>=1.0.0 (from spacy<4.0.0,>=3.5.4->doctran)\n",
      "  Downloading spacy_loggers-1.0.5-py3-none-any.whl.metadata (23 kB)\n",
      "Collecting murmurhash<1.1.0,>=0.28.0 (from spacy<4.0.0,>=3.5.4->doctran)\n",
      "  Downloading murmurhash-1.0.10-cp312-cp312-win_amd64.whl.metadata (2.0 kB)\n",
      "Collecting cymem<2.1.0,>=2.0.2 (from spacy<4.0.0,>=3.5.4->doctran)\n",
      "  Downloading cymem-2.0.8-cp312-cp312-win_amd64.whl.metadata (8.6 kB)\n",
      "Collecting preshed<3.1.0,>=3.0.2 (from spacy<4.0.0,>=3.5.4->doctran)\n",
      "  Downloading preshed-3.0.9-cp312-cp312-win_amd64.whl.metadata (2.2 kB)\n",
      "Collecting thinc<8.3.0,>=8.2.2 (from spacy<4.0.0,>=3.5.4->doctran)\n",
      "  Downloading thinc-8.2.5-cp312-cp312-win_amd64.whl.metadata (15 kB)\n",
      "Collecting wasabi<1.2.0,>=0.9.1 (from spacy<4.0.0,>=3.5.4->doctran)\n",
      "  Downloading wasabi-1.1.3-py3-none-any.whl.metadata (28 kB)\n",
      "Collecting srsly<3.0.0,>=2.4.3 (from spacy<4.0.0,>=3.5.4->doctran)\n",
      "  Downloading srsly-2.4.8-cp312-cp312-win_amd64.whl.metadata (20 kB)\n",
      "Collecting catalogue<2.1.0,>=2.0.6 (from spacy<4.0.0,>=3.5.4->doctran)\n",
      "  Downloading catalogue-2.0.10-py3-none-any.whl.metadata (14 kB)\n",
      "Collecting weasel<0.5.0,>=0.1.0 (from spacy<4.0.0,>=3.5.4->doctran)\n",
      "  Downloading weasel-0.4.1-py3-none-any.whl.metadata (4.6 kB)\n",
      "Collecting typer<1.0.0,>=0.3.0 (from spacy<4.0.0,>=3.5.4->doctran)\n",
      "  Downloading typer-0.12.3-py3-none-any.whl.metadata (15 kB)\n",
      "Requirement already satisfied: jinja2 in c:\\users\\amamo\\anaconda3\\lib\\site-packages (from spacy<4.0.0,>=3.5.4->doctran) (3.1.4)\n",
      "Requirement already satisfied: setuptools in c:\\users\\amamo\\anaconda3\\lib\\site-packages (from spacy<4.0.0,>=3.5.4->doctran) (72.1.0)\n",
      "Requirement already satisfied: packaging>=20.0 in c:\\users\\amamo\\appdata\\roaming\\python\\python312\\site-packages (from spacy<4.0.0,>=3.5.4->doctran) (23.2)\n",
      "Collecting langcodes<4.0.0,>=3.2.0 (from spacy<4.0.0,>=3.5.4->doctran)\n",
      "  Downloading langcodes-3.4.0-py3-none-any.whl.metadata (29 kB)\n",
      "Requirement already satisfied: numpy>=1.19.0 in c:\\users\\amamo\\anaconda3\\lib\\site-packages (from spacy<4.0.0,>=3.5.4->doctran) (1.26.4)\n",
      "Collecting language-data>=1.2 (from langcodes<4.0.0,>=3.2.0->spacy<4.0.0,>=3.5.4->doctran)\n",
      "  Downloading language_data-1.2.0-py3-none-any.whl.metadata (4.3 kB)\n",
      "Requirement already satisfied: charset-normalizer<4,>=2 in c:\\users\\amamo\\anaconda3\\lib\\site-packages (from requests>=2.20->openai<0.28.0,>=0.27.8->doctran) (2.0.4)\n",
      "Requirement already satisfied: idna<4,>=2.5 in c:\\users\\amamo\\anaconda3\\lib\\site-packages (from requests>=2.20->openai<0.28.0,>=0.27.8->doctran) (3.7)\n",
      "Requirement already satisfied: urllib3<3,>=1.21.1 in c:\\users\\amamo\\anaconda3\\lib\\site-packages (from requests>=2.20->openai<0.28.0,>=0.27.8->doctran) (2.2.2)\n",
      "Requirement already satisfied: certifi>=2017.4.17 in c:\\users\\amamo\\anaconda3\\lib\\site-packages (from requests>=2.20->openai<0.28.0,>=0.27.8->doctran) (2024.7.4)\n",
      "Collecting blis<0.8.0,>=0.7.8 (from thinc<8.3.0,>=8.2.2->spacy<4.0.0,>=3.5.4->doctran)\n",
      "  Downloading blis-0.7.11-cp312-cp312-win_amd64.whl.metadata (7.6 kB)\n",
      "Collecting confection<1.0.0,>=0.0.1 (from thinc<8.3.0,>=8.2.2->spacy<4.0.0,>=3.5.4->doctran)\n",
      "  Downloading confection-0.1.5-py3-none-any.whl.metadata (19 kB)\n",
      "Requirement already satisfied: colorama in c:\\users\\amamo\\appdata\\roaming\\python\\python312\\site-packages (from tqdm->openai<0.28.0,>=0.27.8->doctran) (0.4.6)\n",
      "Requirement already satisfied: click>=8.0.0 in c:\\users\\amamo\\anaconda3\\lib\\site-packages (from typer<1.0.0,>=0.3.0->spacy<4.0.0,>=3.5.4->doctran) (8.1.7)\n",
      "Collecting shellingham>=1.3.0 (from typer<1.0.0,>=0.3.0->spacy<4.0.0,>=3.5.4->doctran)\n",
      "  Downloading shellingham-1.5.4-py2.py3-none-any.whl.metadata (3.5 kB)\n",
      "Requirement already satisfied: rich>=10.11.0 in c:\\users\\amamo\\anaconda3\\lib\\site-packages (from typer<1.0.0,>=0.3.0->spacy<4.0.0,>=3.5.4->doctran) (13.3.5)\n",
      "Collecting cloudpathlib<1.0.0,>=0.7.0 (from weasel<0.5.0,>=0.1.0->spacy<4.0.0,>=3.5.4->doctran)\n",
      "  Downloading cloudpathlib-0.18.1-py3-none-any.whl.metadata (14 kB)\n",
      "Requirement already satisfied: smart-open<8.0.0,>=5.2.1 in c:\\users\\amamo\\anaconda3\\lib\\site-packages (from weasel<0.5.0,>=0.1.0->spacy<4.0.0,>=3.5.4->doctran) (5.2.1)\n",
      "Requirement already satisfied: aiosignal>=1.1.2 in c:\\users\\amamo\\anaconda3\\lib\\site-packages (from aiohttp->openai<0.28.0,>=0.27.8->doctran) (1.2.0)\n",
      "Requirement already satisfied: attrs>=17.3.0 in c:\\users\\amamo\\anaconda3\\lib\\site-packages (from aiohttp->openai<0.28.0,>=0.27.8->doctran) (23.1.0)\n",
      "Requirement already satisfied: frozenlist>=1.1.1 in c:\\users\\amamo\\anaconda3\\lib\\site-packages (from aiohttp->openai<0.28.0,>=0.27.8->doctran) (1.4.0)\n",
      "Requirement already satisfied: multidict<7.0,>=4.5 in c:\\users\\amamo\\anaconda3\\lib\\site-packages (from aiohttp->openai<0.28.0,>=0.27.8->doctran) (6.0.4)\n",
      "Requirement already satisfied: yarl<2.0,>=1.0 in c:\\users\\amamo\\anaconda3\\lib\\site-packages (from aiohttp->openai<0.28.0,>=0.27.8->doctran) (1.9.3)\n",
      "Requirement already satisfied: six>=1.11.0 in c:\\users\\amamo\\appdata\\roaming\\python\\python312\\site-packages (from azure-core->presidio-anonymizer<3.0.0,>=2.2.33->doctran) (1.16.0)\n",
      "Requirement already satisfied: MarkupSafe>=2.0 in c:\\users\\amamo\\anaconda3\\lib\\site-packages (from jinja2->spacy<4.0.0,>=3.5.4->doctran) (2.1.3)\n",
      "Requirement already satisfied: requests-file>=1.4 in c:\\users\\amamo\\anaconda3\\lib\\site-packages (from tldextract->presidio-analyzer<3.0.0,>=2.2.33->doctran) (1.5.1)\n",
      "Requirement already satisfied: filelock>=3.0.8 in c:\\users\\amamo\\anaconda3\\lib\\site-packages (from tldextract->presidio-analyzer<3.0.0,>=2.2.33->doctran) (3.13.1)\n",
      "Collecting marisa-trie>=0.7.7 (from language-data>=1.2->langcodes<4.0.0,>=3.2.0->spacy<4.0.0,>=3.5.4->doctran)\n",
      "  Downloading marisa_trie-1.2.0-cp312-cp312-win_amd64.whl.metadata (9.0 kB)\n",
      "Requirement already satisfied: markdown-it-py<3.0.0,>=2.2.0 in c:\\users\\amamo\\anaconda3\\lib\\site-packages (from rich>=10.11.0->typer<1.0.0,>=0.3.0->spacy<4.0.0,>=3.5.4->doctran) (2.2.0)\n",
      "Requirement already satisfied: pygments<3.0.0,>=2.13.0 in c:\\users\\amamo\\appdata\\roaming\\python\\python312\\site-packages (from rich>=10.11.0->typer<1.0.0,>=0.3.0->spacy<4.0.0,>=3.5.4->doctran) (2.17.2)\n",
      "Requirement already satisfied: mdurl~=0.1 in c:\\users\\amamo\\anaconda3\\lib\\site-packages (from markdown-it-py<3.0.0,>=2.2.0->rich>=10.11.0->typer<1.0.0,>=0.3.0->spacy<4.0.0,>=3.5.4->doctran) (0.1.0)\n",
      "Downloading doctran-0.0.14-py3-none-any.whl (11 kB)\n",
      "Downloading lxml-4.9.4-cp312-cp312-win_amd64.whl (3.8 MB)\n",
      "   ---------------------------------------- 0.0/3.8 MB ? eta -:--:--\n",
      "   ------------------------------ --------- 2.9/3.8 MB 21.0 MB/s eta 0:00:01\n",
      "   ---------------------------------------- 3.8/3.8 MB 16.0 MB/s eta 0:00:00\n",
      "Downloading openai-0.27.10-py3-none-any.whl (76 kB)\n",
      "Downloading presidio_analyzer-2.2.355-py3-none-any.whl (109 kB)\n",
      "Downloading presidio_anonymizer-2.2.355-py3-none-any.whl (31 kB)\n",
      "Downloading pydantic-1.10.17-cp312-cp312-win_amd64.whl (1.9 MB)\n",
      "   ---------------------------------------- 0.0/1.9 MB ? eta -:--:--\n",
      "   ---------------------------------------- 1.9/1.9 MB 26.7 MB/s eta 0:00:00\n",
      "Downloading spacy-3.7.5-cp312-cp312-win_amd64.whl (11.7 MB)\n",
      "   ---------------------------------------- 0.0/11.7 MB ? eta -:--:--\n",
      "   -------------------- ------------------- 6.0/11.7 MB 28.4 MB/s eta 0:00:01\n",
      "   -------------------------------- ------- 9.4/11.7 MB 29.3 MB/s eta 0:00:01\n",
      "   ----------------------------------- ---- 10.5/11.7 MB 16.4 MB/s eta 0:00:01\n",
      "   ---------------------------------------- 11.7/11.7 MB 13.5 MB/s eta 0:00:00\n",
      "Downloading tiktoken-0.5.2-cp312-cp312-win_amd64.whl (785 kB)\n",
      "   ---------------------------------------- 0.0/785.8 kB ? eta -:--:--\n",
      "   ---------------------------------------- 785.8/785.8 kB 6.7 MB/s eta 0:00:00\n",
      "Downloading catalogue-2.0.10-py3-none-any.whl (17 kB)\n",
      "Downloading cymem-2.0.8-cp312-cp312-win_amd64.whl (39 kB)\n",
      "Downloading langcodes-3.4.0-py3-none-any.whl (182 kB)\n",
      "Downloading murmurhash-1.0.10-cp312-cp312-win_amd64.whl (25 kB)\n",
      "Downloading phonenumbers-8.13.43-py2.py3-none-any.whl (2.6 MB)\n",
      "   ---------------------------------------- 0.0/2.6 MB ? eta -:--:--\n",
      "   ------------------------ --------------- 1.6/2.6 MB 8.4 MB/s eta 0:00:01\n",
      "   ---------------------------------------- 2.6/2.6 MB 7.8 MB/s eta 0:00:00\n",
      "Downloading preshed-3.0.9-cp312-cp312-win_amd64.whl (122 kB)\n",
      "Downloading pycryptodome-3.20.0-cp35-abi3-win_amd64.whl (1.8 MB)\n",
      "   ---------------------------------------- 0.0/1.8 MB ? eta -:--:--\n",
      "   ---------------------------------------- 1.8/1.8 MB 8.7 MB/s eta 0:00:00\n",
      "Downloading spacy_legacy-3.0.12-py2.py3-none-any.whl (29 kB)\n",
      "Downloading spacy_loggers-1.0.5-py3-none-any.whl (22 kB)\n",
      "Downloading srsly-2.4.8-cp312-cp312-win_amd64.whl (478 kB)\n",
      "Downloading thinc-8.2.5-cp312-cp312-win_amd64.whl (1.4 MB)\n",
      "   ---------------------------------------- 0.0/1.4 MB ? eta -:--:--\n",
      "   ---------------------------------------- 1.4/1.4 MB 9.5 MB/s eta 0:00:00\n",
      "Downloading typer-0.12.3-py3-none-any.whl (47 kB)\n",
      "Downloading wasabi-1.1.3-py3-none-any.whl (27 kB)\n",
      "Downloading weasel-0.4.1-py3-none-any.whl (50 kB)\n",
      "Downloading azure_core-1.30.2-py3-none-any.whl (194 kB)\n",
      "Downloading blis-0.7.11-cp312-cp312-win_amd64.whl (6.6 MB)\n",
      "   ---------------------------------------- 0.0/6.6 MB ? eta -:--:--\n",
      "   ------- -------------------------------- 1.3/6.6 MB 8.4 MB/s eta 0:00:01\n",
      "   ----------------- ---------------------- 2.9/6.6 MB 6.7 MB/s eta 0:00:01\n",
      "   ---------------------------- ----------- 4.7/6.6 MB 7.3 MB/s eta 0:00:01\n",
      "   ---------------------------------------  6.6/6.6 MB 7.7 MB/s eta 0:00:01\n",
      "   ---------------------------------------- 6.6/6.6 MB 7.5 MB/s eta 0:00:00\n",
      "Downloading cloudpathlib-0.18.1-py3-none-any.whl (47 kB)\n",
      "Downloading confection-0.1.5-py3-none-any.whl (35 kB)\n",
      "Downloading language_data-1.2.0-py3-none-any.whl (5.4 MB)\n",
      "   ---------------------------------------- 0.0/5.4 MB ? eta -:--:--\n",
      "   ----------- ---------------------------- 1.6/5.4 MB 9.3 MB/s eta 0:00:01\n",
      "   --------------------------- ------------ 3.7/5.4 MB 9.1 MB/s eta 0:00:01\n",
      "   ---------------------------------------- 5.4/5.4 MB 8.2 MB/s eta 0:00:00\n",
      "Downloading shellingham-1.5.4-py2.py3-none-any.whl (9.8 kB)\n",
      "Downloading marisa_trie-1.2.0-cp312-cp312-win_amd64.whl (151 kB)\n",
      "Installing collected packages: phonenumbers, cymem, wasabi, spacy-loggers, spacy-legacy, shellingham, pydantic, pycryptodome, murmurhash, marisa-trie, lxml, cloudpathlib, catalogue, blis, tiktoken, srsly, preshed, language-data, azure-core, typer, presidio-anonymizer, openai, langcodes, confection, weasel, thinc, spacy, presidio-analyzer, doctran\n",
      "  Attempting uninstall: pydantic\n",
      "    Found existing installation: pydantic 2.5.3\n",
      "    Uninstalling pydantic-2.5.3:\n",
      "      Successfully uninstalled pydantic-2.5.3\n",
      "  Attempting uninstall: lxml\n",
      "    Found existing installation: lxml 5.2.1\n",
      "    Uninstalling lxml-5.2.1:\n",
      "      Successfully uninstalled lxml-5.2.1\n",
      "Successfully installed azure-core-1.30.2 blis-0.7.11 catalogue-2.0.10 cloudpathlib-0.18.1 confection-0.1.5 cymem-2.0.8 doctran-0.0.14 langcodes-3.4.0 language-data-1.2.0 lxml-4.9.4 marisa-trie-1.2.0 murmurhash-1.0.10 openai-0.27.10 phonenumbers-8.13.43 preshed-3.0.9 presidio-analyzer-2.2.355 presidio-anonymizer-2.2.355 pycryptodome-3.20.0 pydantic-1.10.17 shellingham-1.5.4 spacy-3.7.5 spacy-legacy-3.0.12 spacy-loggers-1.0.5 srsly-2.4.8 thinc-8.2.5 tiktoken-0.5.2 typer-0.12.3 wasabi-1.1.3 weasel-0.4.1\n"
     ]
    }
   ],
   "source": [
    "!pip install doctran\n"
   ]
  },
  {
   "cell_type": "markdown",
   "metadata": {},
   "source": [
    "**Import Libraries**"
   ]
  },
  {
   "cell_type": "code",
   "execution_count": 15,
   "metadata": {},
   "outputs": [],
   "source": [
    "from doctran import ExtractProperty\n",
    "from doctran import Doctran\n"
   ]
  },
  {
   "cell_type": "markdown",
   "metadata": {},
   "source": [
    "**Define Complain Raw Text**"
   ]
  },
  {
   "cell_type": "code",
   "execution_count": 17,
   "metadata": {},
   "outputs": [],
   "source": [
    "sample_complain  = \"\"\"\n",
    "\n",
    "November 26, 2021\n",
    "\n",
    "The Manager\n",
    "Customer Service Department\n",
    "Taurus Shop\n",
    "New Delhi – 110023\n",
    "\n",
    "Subject: Complaint about defective ‘VIP’ washing machine\n",
    "\n",
    "\n",
    "Dear Sir,\n",
    "\n",
    "I had purchased an automatic washing machine on 15 July 2022, \n",
    "model no. G 24 and the invoice no. is 1598.\n",
    "\n",
    "Last week, the machine stopped working abruptly and has not been working \n",
    "since then despite all our efforts. \n",
    "The machine stops running after the rinsing process is completed, \n",
    "causing a lot of problems. \n",
    "Moreover, the machine since the last day or so has also started making loud noises, \n",
    "creating inconvenience for us.\n",
    "\n",
    "Please send your technician to repair it and if needed get it replaced within the following week.\n",
    "\n",
    "Hoping for an early response\n",
    "\n",
    "Yours truly\n",
    "\"\"\"\n"
   ]
  },
  {
   "cell_type": "markdown",
   "metadata": {},
   "source": [
    "**Convert Raw Text Into Doctran Document**"
   ]
  },
  {
   "cell_type": "code",
   "execution_count": 18,
   "metadata": {},
   "outputs": [
    {
     "name": "stdout",
     "output_type": "stream",
     "text": [
      "\n",
      "\n",
      "November 26, 2021\n",
      "\n",
      "The Manager\n",
      "Customer Service Department\n",
      "Taurus Shop\n",
      "New Delhi – 110023\n",
      "\n",
      "Subject: Complaint about defective ‘VIP’ washing machine\n",
      "\n",
      "\n",
      "Dear Sir,\n",
      "\n",
      "I had purchased an automatic washing machine on 15 July 2022, \n",
      "model no. G 24 and the invoice no. is 1598.\n",
      "\n",
      "Last week, the machine stopped working abruptly and has not been working \n",
      "since then despite all our efforts. \n",
      "The machine stops running after the rinsing process is completed, \n",
      "causing a lot of problems. \n",
      "Moreover, the machine since the last day or so has also started making loud noises, \n",
      "creating inconvenience for us.\n",
      "\n",
      "Please send your technician to repair it and if needed get it replaced within the following week.\n",
      "\n",
      "Hoping for an early response\n",
      "\n",
      "Yours truly\n",
      "\n"
     ]
    }
   ],
   "source": [
    "doctran = Doctran(openai_api_key=secret_key)\n",
    "document = doctran.parse(content=sample_complain)\n",
    "print(document.raw_content)\n"
   ]
  },
  {
   "cell_type": "markdown",
   "metadata": {},
   "source": [
    "**Extract Key Properties**"
   ]
  },
  {
   "cell_type": "code",
   "execution_count": 19,
   "metadata": {},
   "outputs": [],
   "source": [
    "properties = [\n",
    "    ExtractProperty(\n",
    "        name=\"Category\", \n",
    "        description=\"What type of consumer complaint this is\",\n",
    "        type=\"string\",\n",
    "        enum=[\"Product or Service\", \"Wait Time\", \"Delivery\", \"Communication Gap\", \"Personnel\"],\n",
    "        required=True\n",
    "        ),\n",
    "    ExtractProperty(\n",
    "        name=\"Sentiment\", \n",
    "        description = \"Assess the polarity/sentiment\",\n",
    "        type=\"string\",\n",
    "        enum = [\"Positive\", \"Negative\", \"Neutral\"],\n",
    "        required=True\n",
    "        ), \n",
    "    ExtractProperty(\n",
    "        name=\"Aggressiveness\", \n",
    "        description=\"\"\"describes how aggressive the complaint is, \n",
    "        the higher the number the more aggressive\"\"\",\n",
    "        type=\"number\",\n",
    "        enum=[1, 2, 3, 4, 5],\n",
    "        required=True\n",
    "        ),   \n",
    "    ExtractProperty(\n",
    "        name=\"Language\", \n",
    "        type=\"string\",\n",
    "        description = \"source language\",\n",
    "        enum = [\"English\", \"Hindi\", \"Spanish\", \"Italian\", \"German\"],\n",
    "        required=True\n",
    "        )         \n",
    "]\n"
   ]
  },
  {
   "cell_type": "code",
   "execution_count": 24,
   "metadata": {},
   "outputs": [
    {
     "name": "stdout",
     "output_type": "stream",
     "text": [
      "{'Category': 'Product or Service', 'Sentiment': 'Negative', 'Aggressiveness': '2', 'Language': 'English'}\n"
     ]
    }
   ],
   "source": [
    "extracted_doc = document.extract(properties=properties).execute()\n",
    "print(extracted_doc.extracted_properties)\n"
   ]
  },
  {
   "cell_type": "markdown",
   "metadata": {},
   "source": [
    "**Convert Into Q&A**"
   ]
  },
  {
   "cell_type": "code",
   "execution_count": 26,
   "metadata": {},
   "outputs": [
    {
     "name": "stdout",
     "output_type": "stream",
     "text": [
      "[{'question': 'When was the washing machine purchased?', 'answer': 'The washing machine was purchased on 15 July 2022.'}, {'question': 'What is the model number of the washing machine?', 'answer': 'The model number of the washing machine is G 24.'}, {'question': 'What is the invoice number of the washing machine?', 'answer': 'The invoice number of the washing machine is 1598.'}, {'question': 'What is the issue with the washing machine?', 'answer': 'The machine stopped working abruptly and has not been working since then. It stops running after the rinsing process is completed. Moreover, it has also started making loud noises.'}, {'question': \"What is the customer's request?\", 'answer': 'The customer requests the company to send a technician to repair the washing machine and if needed, get it replaced within the following week.'}]\n"
     ]
    }
   ],
   "source": [
    "interrogated_doc = document.interrogate().execute()\n",
    "print(interrogated_doc.extracted_properties['questions_and_answers'])\n"
   ]
  },
  {
   "cell_type": "markdown",
   "metadata": {},
   "source": [
    "**Summarize**"
   ]
  },
  {
   "cell_type": "code",
   "execution_count": 28,
   "metadata": {},
   "outputs": [
    {
     "name": "stdout",
     "output_type": "stream",
     "text": [
      "The letter is a complaint about a defective automatic washing machine, model no. G 24, purchased on 15 July 2022 from Taurus Shop. The machine stopped working abruptly last week and has been making loud noises. The customer requests a technician to repair or replace it within the following week.\n"
     ]
    }
   ],
   "source": [
    "summarized_doc = document.summarize(token_limit=30).execute()\n",
    "print(summarized_doc.transformed_content)\n"
   ]
  },
  {
   "cell_type": "markdown",
   "metadata": {},
   "source": [
    "**Translate**"
   ]
  },
  {
   "cell_type": "code",
   "execution_count": 29,
   "metadata": {},
   "outputs": [
    {
     "name": "stdout",
     "output_type": "stream",
     "text": [
      "26 नवम्बर, 2021\n",
      "\n",
      "प्रबंधक\n",
      "ग्राहक सेवा विभाग\n",
      "तौरस शॉप\n",
      "नई दिल्ली - 110023\n",
      "\n",
      "विषय: खराब 'VIP' वॉशिंग मशीन के बारे में शिकायत\n",
      "\n",
      "प्रिय सर,\n",
      "\n",
      "मैंने 15 जुलाई 2022 को एक ऑटोमैटिक वॉशिंग मशीन खरीदी थी, मॉडल संख्या G 24 और इनवॉइस संख्या 1598 है।\n",
      "\n",
      "पिछले सप्ताह, मशीन अचानक बंद हो गई और तब से काम नहीं कर रही है बावजूद हमारी सभी कोशिशों के। मशीन रिंसिंग प्रक्रिया पूरी होने के बाद चलना बंद कर देती है, जिससे हमें बहुत समस्याएं हो रही हैं। इसके अलावा, मशीन पिछले दिन या दो दिनों से जोरदार आवाज़ करने लगी है, जिससे हमें असुविधा हो रही है।\n",
      "\n",
      "कृपया अपने तकनीशियन को इसे मरम्मत करने के लिए भेजें और यदि आवश्यक हो तो अगले सप्ताह के भीतर इसे बदल दें।\n",
      "\n",
      "जल्दी प्रतिक्रिया की उम्मीद करता हूं\n",
      "\n",
      "आपका सच्चा\n"
     ]
    }
   ],
   "source": [
    "translated_doc = document.translate(language=\"hindi\").execute()\n",
    "print(translated_doc.transformed_content)\n"
   ]
  }
 ],
 "metadata": {
  "kernelspec": {
   "display_name": "base",
   "language": "python",
   "name": "python3"
  },
  "language_info": {
   "codemirror_mode": {
    "name": "ipython",
    "version": 3
   },
   "file_extension": ".py",
   "mimetype": "text/x-python",
   "name": "python",
   "nbconvert_exporter": "python",
   "pygments_lexer": "ipython3",
   "version": "3.12.4"
  }
 },
 "nbformat": 4,
 "nbformat_minor": 2
}
