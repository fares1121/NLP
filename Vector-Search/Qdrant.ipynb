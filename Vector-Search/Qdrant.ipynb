{
 "cells": [
  {
   "cell_type": "markdown",
   "metadata": {},
   "source": [
    "# **Qdrant, the Rust-Based Vector Database**"
   ]
  },
  {
   "cell_type": "markdown",
   "metadata": {},
   "source": [
    "Qdrant is the new Vector Similarity Search Engine and a Vector DB, providing a production-ready service built in Rust, the language known for its safety. Qdrant comes with a user-friendly API designed to store, search, and manage high-dimensional Points (Points are nothing but Vector Embeddings) enriched with metadata called payloads."
   ]
  },
  {
   "cell_type": "markdown",
   "metadata": {},
   "source": [
    "**Install Libraries**"
   ]
  },
  {
   "cell_type": "code",
   "execution_count": 1,
   "metadata": {},
   "outputs": [
    {
     "name": "stdout",
     "output_type": "stream",
     "text": [
      "Collecting sentence-transformers\n",
      "  Downloading sentence_transformers-3.0.1-py3-none-any.whl.metadata (10 kB)\n",
      "Requirement already satisfied: transformers<5.0.0,>=4.34.0 in c:\\users\\amamo\\anaconda3\\lib\\site-packages (from sentence-transformers) (4.44.0)\n",
      "Requirement already satisfied: tqdm in c:\\users\\amamo\\anaconda3\\lib\\site-packages (from sentence-transformers) (4.66.4)\n",
      "Requirement already satisfied: torch>=1.11.0 in c:\\users\\amamo\\anaconda3\\lib\\site-packages (from sentence-transformers) (2.4.0+cu124)\n",
      "Requirement already satisfied: numpy in c:\\users\\amamo\\anaconda3\\lib\\site-packages (from sentence-transformers) (1.26.4)\n",
      "Requirement already satisfied: scikit-learn in c:\\users\\amamo\\anaconda3\\lib\\site-packages (from sentence-transformers) (1.4.2)\n",
      "Requirement already satisfied: scipy in c:\\users\\amamo\\anaconda3\\lib\\site-packages (from sentence-transformers) (1.13.1)\n",
      "Requirement already satisfied: huggingface-hub>=0.15.1 in c:\\users\\amamo\\anaconda3\\lib\\site-packages (from sentence-transformers) (0.24.5)\n",
      "Requirement already satisfied: Pillow in c:\\users\\amamo\\anaconda3\\lib\\site-packages (from sentence-transformers) (10.3.0)\n",
      "Requirement already satisfied: filelock in c:\\users\\amamo\\anaconda3\\lib\\site-packages (from huggingface-hub>=0.15.1->sentence-transformers) (3.13.1)\n",
      "Requirement already satisfied: fsspec>=2023.5.0 in c:\\users\\amamo\\anaconda3\\lib\\site-packages (from huggingface-hub>=0.15.1->sentence-transformers) (2024.3.1)\n",
      "Requirement already satisfied: packaging>=20.9 in c:\\users\\amamo\\appdata\\roaming\\python\\python312\\site-packages (from huggingface-hub>=0.15.1->sentence-transformers) (23.2)\n",
      "Requirement already satisfied: pyyaml>=5.1 in c:\\users\\amamo\\anaconda3\\lib\\site-packages (from huggingface-hub>=0.15.1->sentence-transformers) (6.0.1)\n",
      "Requirement already satisfied: requests in c:\\users\\amamo\\anaconda3\\lib\\site-packages (from huggingface-hub>=0.15.1->sentence-transformers) (2.32.2)\n",
      "Requirement already satisfied: typing-extensions>=3.7.4.3 in c:\\users\\amamo\\anaconda3\\lib\\site-packages (from huggingface-hub>=0.15.1->sentence-transformers) (4.11.0)\n",
      "Requirement already satisfied: sympy in c:\\users\\amamo\\anaconda3\\lib\\site-packages (from torch>=1.11.0->sentence-transformers) (1.12)\n",
      "Requirement already satisfied: networkx in c:\\users\\amamo\\anaconda3\\lib\\site-packages (from torch>=1.11.0->sentence-transformers) (3.2.1)\n",
      "Requirement already satisfied: jinja2 in c:\\users\\amamo\\anaconda3\\lib\\site-packages (from torch>=1.11.0->sentence-transformers) (3.1.4)\n",
      "Requirement already satisfied: setuptools in c:\\users\\amamo\\anaconda3\\lib\\site-packages (from torch>=1.11.0->sentence-transformers) (72.1.0)\n",
      "Requirement already satisfied: colorama in c:\\users\\amamo\\appdata\\roaming\\python\\python312\\site-packages (from tqdm->sentence-transformers) (0.4.6)\n",
      "Requirement already satisfied: regex!=2019.12.17 in c:\\users\\amamo\\anaconda3\\lib\\site-packages (from transformers<5.0.0,>=4.34.0->sentence-transformers) (2023.10.3)\n",
      "Requirement already satisfied: safetensors>=0.4.1 in c:\\users\\amamo\\anaconda3\\lib\\site-packages (from transformers<5.0.0,>=4.34.0->sentence-transformers) (0.4.4)\n",
      "Requirement already satisfied: tokenizers<0.20,>=0.19 in c:\\users\\amamo\\anaconda3\\lib\\site-packages (from transformers<5.0.0,>=4.34.0->sentence-transformers) (0.19.1)\n",
      "Requirement already satisfied: joblib>=1.2.0 in c:\\users\\amamo\\anaconda3\\lib\\site-packages (from scikit-learn->sentence-transformers) (1.4.2)\n",
      "Requirement already satisfied: threadpoolctl>=2.0.0 in c:\\users\\amamo\\anaconda3\\lib\\site-packages (from scikit-learn->sentence-transformers) (2.2.0)\n",
      "Requirement already satisfied: MarkupSafe>=2.0 in c:\\users\\amamo\\anaconda3\\lib\\site-packages (from jinja2->torch>=1.11.0->sentence-transformers) (2.1.3)\n",
      "Requirement already satisfied: charset-normalizer<4,>=2 in c:\\users\\amamo\\anaconda3\\lib\\site-packages (from requests->huggingface-hub>=0.15.1->sentence-transformers) (2.0.4)\n",
      "Requirement already satisfied: idna<4,>=2.5 in c:\\users\\amamo\\anaconda3\\lib\\site-packages (from requests->huggingface-hub>=0.15.1->sentence-transformers) (3.7)\n",
      "Requirement already satisfied: urllib3<3,>=1.21.1 in c:\\users\\amamo\\anaconda3\\lib\\site-packages (from requests->huggingface-hub>=0.15.1->sentence-transformers) (2.2.2)\n",
      "Requirement already satisfied: certifi>=2017.4.17 in c:\\users\\amamo\\anaconda3\\lib\\site-packages (from requests->huggingface-hub>=0.15.1->sentence-transformers) (2024.7.4)\n",
      "Requirement already satisfied: mpmath>=0.19 in c:\\users\\amamo\\anaconda3\\lib\\site-packages (from sympy->torch>=1.11.0->sentence-transformers) (1.3.0)\n",
      "Downloading sentence_transformers-3.0.1-py3-none-any.whl (227 kB)\n",
      "Installing collected packages: sentence-transformers\n",
      "Successfully installed sentence-transformers-3.0.1\n"
     ]
    }
   ],
   "source": [
    "!pip install sentence-transformers\n"
   ]
  },
  {
   "cell_type": "code",
   "execution_count": 2,
   "metadata": {},
   "outputs": [
    {
     "name": "stdout",
     "output_type": "stream",
     "text": [
      "Collecting qdrant_client"
     ]
    },
    {
     "name": "stderr",
     "output_type": "stream",
     "text": [
      "ERROR: pip's dependency resolver does not currently take into account all the packages that are installed. This behaviour is the source of the following dependency conflicts.\n",
      "streamlit 1.32.0 requires protobuf<5,>=3.20, but you have protobuf 5.27.3 which is incompatible.\n",
      "tensorflow-intel 2.16.2 requires protobuf!=4.21.0,!=4.21.1,!=4.21.2,!=4.21.3,!=4.21.4,!=4.21.5,<5.0.0dev,>=3.20.3, but you have protobuf 5.27.3 which is incompatible.\n"
     ]
    },
    {
     "name": "stdout",
     "output_type": "stream",
     "text": [
      "\n",
      "  Downloading qdrant_client-1.11.0-py3-none-any.whl.metadata (10 kB)\n",
      "Requirement already satisfied: grpcio>=1.41.0 in c:\\users\\amamo\\anaconda3\\lib\\site-packages (from qdrant_client) (1.65.4)\n",
      "Collecting grpcio-tools>=1.41.0 (from qdrant_client)\n",
      "  Downloading grpcio_tools-1.65.4-cp312-cp312-win_amd64.whl.metadata (5.5 kB)\n",
      "Collecting httpx>=0.20.0 (from httpx[http2]>=0.20.0->qdrant_client)\n",
      "  Downloading httpx-0.27.0-py3-none-any.whl.metadata (7.2 kB)\n",
      "Requirement already satisfied: numpy>=1.26 in c:\\users\\amamo\\anaconda3\\lib\\site-packages (from qdrant_client) (1.26.4)\n",
      "Collecting portalocker<3.0.0,>=2.7.0 (from qdrant_client)\n",
      "  Downloading portalocker-2.10.1-py3-none-any.whl.metadata (8.5 kB)\n",
      "Requirement already satisfied: pydantic>=1.10.8 in c:\\users\\amamo\\anaconda3\\lib\\site-packages (from qdrant_client) (2.5.3)\n",
      "Requirement already satisfied: urllib3<3,>=1.26.14 in c:\\users\\amamo\\anaconda3\\lib\\site-packages (from qdrant_client) (2.2.2)\n",
      "Collecting protobuf<6.0dev,>=5.26.1 (from grpcio-tools>=1.41.0->qdrant_client)\n",
      "  Downloading protobuf-5.27.3-cp310-abi3-win_amd64.whl.metadata (592 bytes)\n",
      "Requirement already satisfied: setuptools in c:\\users\\amamo\\anaconda3\\lib\\site-packages (from grpcio-tools>=1.41.0->qdrant_client) (72.1.0)\n",
      "Requirement already satisfied: anyio in c:\\users\\amamo\\anaconda3\\lib\\site-packages (from httpx>=0.20.0->httpx[http2]>=0.20.0->qdrant_client) (4.2.0)\n",
      "Requirement already satisfied: certifi in c:\\users\\amamo\\anaconda3\\lib\\site-packages (from httpx>=0.20.0->httpx[http2]>=0.20.0->qdrant_client) (2024.7.4)\n",
      "Collecting httpcore==1.* (from httpx>=0.20.0->httpx[http2]>=0.20.0->qdrant_client)\n",
      "  Downloading httpcore-1.0.5-py3-none-any.whl.metadata (20 kB)\n",
      "Requirement already satisfied: idna in c:\\users\\amamo\\anaconda3\\lib\\site-packages (from httpx>=0.20.0->httpx[http2]>=0.20.0->qdrant_client) (3.7)\n",
      "Requirement already satisfied: sniffio in c:\\users\\amamo\\anaconda3\\lib\\site-packages (from httpx>=0.20.0->httpx[http2]>=0.20.0->qdrant_client) (1.3.0)\n",
      "Collecting h11<0.15,>=0.13 (from httpcore==1.*->httpx>=0.20.0->httpx[http2]>=0.20.0->qdrant_client)\n",
      "  Downloading h11-0.14.0-py3-none-any.whl.metadata (8.2 kB)\n",
      "Collecting h2<5,>=3 (from httpx[http2]>=0.20.0->qdrant_client)\n",
      "  Downloading h2-4.1.0-py3-none-any.whl.metadata (3.6 kB)\n",
      "Requirement already satisfied: pywin32>=226 in c:\\users\\amamo\\appdata\\roaming\\python\\python312\\site-packages (from portalocker<3.0.0,>=2.7.0->qdrant_client) (306)\n",
      "Requirement already satisfied: annotated-types>=0.4.0 in c:\\users\\amamo\\anaconda3\\lib\\site-packages (from pydantic>=1.10.8->qdrant_client) (0.6.0)\n",
      "Requirement already satisfied: pydantic-core==2.14.6 in c:\\users\\amamo\\anaconda3\\lib\\site-packages (from pydantic>=1.10.8->qdrant_client) (2.14.6)\n",
      "Requirement already satisfied: typing-extensions>=4.6.1 in c:\\users\\amamo\\anaconda3\\lib\\site-packages (from pydantic>=1.10.8->qdrant_client) (4.11.0)\n",
      "Collecting hyperframe<7,>=6.0 (from h2<5,>=3->httpx[http2]>=0.20.0->qdrant_client)\n",
      "  Downloading hyperframe-6.0.1-py3-none-any.whl.metadata (2.7 kB)\n",
      "Collecting hpack<5,>=4.0 (from h2<5,>=3->httpx[http2]>=0.20.0->qdrant_client)\n",
      "  Downloading hpack-4.0.0-py3-none-any.whl.metadata (2.5 kB)\n",
      "Downloading qdrant_client-1.11.0-py3-none-any.whl (258 kB)\n",
      "Downloading grpcio_tools-1.65.4-cp312-cp312-win_amd64.whl (1.1 MB)\n",
      "   ---------------------------------------- 0.0/1.1 MB ? eta -:--:--\n",
      "   ---------------------------------------- 1.1/1.1 MB 13.1 MB/s eta 0:00:00\n",
      "Downloading httpx-0.27.0-py3-none-any.whl (75 kB)\n",
      "Downloading httpcore-1.0.5-py3-none-any.whl (77 kB)\n",
      "Downloading portalocker-2.10.1-py3-none-any.whl (18 kB)\n",
      "Downloading h2-4.1.0-py3-none-any.whl (57 kB)\n",
      "Downloading protobuf-5.27.3-cp310-abi3-win_amd64.whl (426 kB)\n",
      "Downloading h11-0.14.0-py3-none-any.whl (58 kB)\n",
      "Downloading hpack-4.0.0-py3-none-any.whl (32 kB)\n",
      "Downloading hyperframe-6.0.1-py3-none-any.whl (12 kB)\n",
      "Installing collected packages: protobuf, portalocker, hyperframe, hpack, h11, httpcore, h2, grpcio-tools, httpx, qdrant_client\n",
      "  Attempting uninstall: protobuf\n",
      "    Found existing installation: protobuf 3.20.3\n",
      "    Uninstalling protobuf-3.20.3:\n",
      "      Successfully uninstalled protobuf-3.20.3\n",
      "Successfully installed grpcio-tools-1.65.4 h11-0.14.0 h2-4.1.0 hpack-4.0.0 httpcore-1.0.5 httpx-0.27.0 hyperframe-6.0.1 portalocker-2.10.1 protobuf-5.27.3 qdrant_client-1.11.0\n"
     ]
    }
   ],
   "source": [
    "!pip install qdrant_client\n"
   ]
  },
  {
   "cell_type": "code",
   "execution_count": 5,
   "metadata": {},
   "outputs": [
    {
     "name": "stdout",
     "output_type": "stream",
     "text": [
      "Collecting tf-keras\n",
      "  Downloading tf_keras-2.17.0-py3-none-any.whl.metadata (1.6 kB)\n",
      "Collecting tensorflow<2.18,>=2.17 (from tf-keras)\n",
      "  Downloading tensorflow-2.17.0-cp312-cp312-win_amd64.whl.metadata (3.2 kB)\n",
      "Collecting tensorflow-intel==2.17.0 (from tensorflow<2.18,>=2.17->tf-keras)\n",
      "  Downloading tensorflow_intel-2.17.0-cp312-cp312-win_amd64.whl.metadata (5.0 kB)\n",
      "Requirement already satisfied: absl-py>=1.0.0 in c:\\users\\amamo\\anaconda3\\lib\\site-packages (from tensorflow-intel==2.17.0->tensorflow<2.18,>=2.17->tf-keras) (2.1.0)\n",
      "Requirement already satisfied: astunparse>=1.6.0 in c:\\users\\amamo\\anaconda3\\lib\\site-packages (from tensorflow-intel==2.17.0->tensorflow<2.18,>=2.17->tf-keras) (1.6.3)\n",
      "Requirement already satisfied: flatbuffers>=24.3.25 in c:\\users\\amamo\\anaconda3\\lib\\site-packages (from tensorflow-intel==2.17.0->tensorflow<2.18,>=2.17->tf-keras) (24.3.25)\n",
      "Requirement already satisfied: gast!=0.5.0,!=0.5.1,!=0.5.2,>=0.2.1 in c:\\users\\amamo\\anaconda3\\lib\\site-packages (from tensorflow-intel==2.17.0->tensorflow<2.18,>=2.17->tf-keras) (0.6.0)\n",
      "Requirement already satisfied: google-pasta>=0.1.1 in c:\\users\\amamo\\anaconda3\\lib\\site-packages (from tensorflow-intel==2.17.0->tensorflow<2.18,>=2.17->tf-keras) (0.2.0)\n",
      "Requirement already satisfied: h5py>=3.10.0 in c:\\users\\amamo\\anaconda3\\lib\\site-packages (from tensorflow-intel==2.17.0->tensorflow<2.18,>=2.17->tf-keras) (3.11.0)\n",
      "Requirement already satisfied: libclang>=13.0.0 in c:\\users\\amamo\\anaconda3\\lib\\site-packages (from tensorflow-intel==2.17.0->tensorflow<2.18,>=2.17->tf-keras) (18.1.1)\n",
      "Requirement already satisfied: ml-dtypes<0.5.0,>=0.3.1 in c:\\users\\amamo\\anaconda3\\lib\\site-packages (from tensorflow-intel==2.17.0->tensorflow<2.18,>=2.17->tf-keras) (0.3.2)\n",
      "Requirement already satisfied: opt-einsum>=2.3.2 in c:\\users\\amamo\\anaconda3\\lib\\site-packages (from tensorflow-intel==2.17.0->tensorflow<2.18,>=2.17->tf-keras) (3.3.0)\n",
      "Requirement already satisfied: packaging in c:\\users\\amamo\\appdata\\roaming\\python\\python312\\site-packages (from tensorflow-intel==2.17.0->tensorflow<2.18,>=2.17->tf-keras) (23.2)\n",
      "Collecting protobuf!=4.21.0,!=4.21.1,!=4.21.2,!=4.21.3,!=4.21.4,!=4.21.5,<5.0.0dev,>=3.20.3 (from tensorflow-intel==2.17.0->tensorflow<2.18,>=2.17->tf-keras)\n",
      "  Downloading protobuf-4.25.4-cp310-abi3-win_amd64.whl.metadata (541 bytes)\n",
      "Requirement already satisfied: requests<3,>=2.21.0 in c:\\users\\amamo\\anaconda3\\lib\\site-packages (from tensorflow-intel==2.17.0->tensorflow<2.18,>=2.17->tf-keras) (2.32.2)\n",
      "Requirement already satisfied: setuptools in c:\\users\\amamo\\anaconda3\\lib\\site-packages (from tensorflow-intel==2.17.0->tensorflow<2.18,>=2.17->tf-keras) (72.1.0)\n",
      "Requirement already satisfied: six>=1.12.0 in c:\\users\\amamo\\appdata\\roaming\\python\\python312\\site-packages (from tensorflow-intel==2.17.0->tensorflow<2.18,>=2.17->tf-keras) (1.16.0)\n",
      "Requirement already satisfied: termcolor>=1.1.0 in c:\\users\\amamo\\anaconda3\\lib\\site-packages (from tensorflow-intel==2.17.0->tensorflow<2.18,>=2.17->tf-keras) (2.4.0)\n",
      "Requirement already satisfied: typing-extensions>=3.6.6 in c:\\users\\amamo\\anaconda3\\lib\\site-packages (from tensorflow-intel==2.17.0->tensorflow<2.18,>=2.17->tf-keras) (4.11.0)\n",
      "Requirement already satisfied: wrapt>=1.11.0 in c:\\users\\amamo\\anaconda3\\lib\\site-packages (from tensorflow-intel==2.17.0->tensorflow<2.18,>=2.17->tf-keras) (1.14.1)\n",
      "Requirement already satisfied: grpcio<2.0,>=1.24.3 in c:\\users\\amamo\\anaconda3\\lib\\site-packages (from tensorflow-intel==2.17.0->tensorflow<2.18,>=2.17->tf-keras) (1.65.4)\n",
      "Collecting tensorboard<2.18,>=2.17 (from tensorflow-intel==2.17.0->tensorflow<2.18,>=2.17->tf-keras)\n",
      "  Downloading tensorboard-2.17.1-py3-none-any.whl.metadata (1.6 kB)\n",
      "Requirement already satisfied: keras>=3.2.0 in c:\\users\\amamo\\anaconda3\\lib\\site-packages (from tensorflow-intel==2.17.0->tensorflow<2.18,>=2.17->tf-keras) (3.4.1)\n",
      "Requirement already satisfied: numpy<2.0.0,>=1.26.0 in c:\\users\\amamo\\anaconda3\\lib\\site-packages (from tensorflow-intel==2.17.0->tensorflow<2.18,>=2.17->tf-keras) (1.26.4)\n",
      "Requirement already satisfied: wheel<1.0,>=0.23.0 in c:\\users\\amamo\\anaconda3\\lib\\site-packages (from astunparse>=1.6.0->tensorflow-intel==2.17.0->tensorflow<2.18,>=2.17->tf-keras) (0.44.0)\n",
      "Requirement already satisfied: rich in c:\\users\\amamo\\anaconda3\\lib\\site-packages (from keras>=3.2.0->tensorflow-intel==2.17.0->tensorflow<2.18,>=2.17->tf-keras) (13.3.5)\n",
      "Requirement already satisfied: namex in c:\\users\\amamo\\anaconda3\\lib\\site-packages (from keras>=3.2.0->tensorflow-intel==2.17.0->tensorflow<2.18,>=2.17->tf-keras) (0.0.8)\n",
      "Requirement already satisfied: optree in c:\\users\\amamo\\anaconda3\\lib\\site-packages (from keras>=3.2.0->tensorflow-intel==2.17.0->tensorflow<2.18,>=2.17->tf-keras) (0.12.1)\n",
      "Requirement already satisfied: charset-normalizer<4,>=2 in c:\\users\\amamo\\anaconda3\\lib\\site-packages (from requests<3,>=2.21.0->tensorflow-intel==2.17.0->tensorflow<2.18,>=2.17->tf-keras) (2.0.4)\n",
      "Requirement already satisfied: idna<4,>=2.5 in c:\\users\\amamo\\anaconda3\\lib\\site-packages (from requests<3,>=2.21.0->tensorflow-intel==2.17.0->tensorflow<2.18,>=2.17->tf-keras) (3.7)\n",
      "Requirement already satisfied: urllib3<3,>=1.21.1 in c:\\users\\amamo\\anaconda3\\lib\\site-packages (from requests<3,>=2.21.0->tensorflow-intel==2.17.0->tensorflow<2.18,>=2.17->tf-keras) (2.2.2)\n",
      "Requirement already satisfied: certifi>=2017.4.17 in c:\\users\\amamo\\anaconda3\\lib\\site-packages (from requests<3,>=2.21.0->tensorflow-intel==2.17.0->tensorflow<2.18,>=2.17->tf-keras) (2024.7.4)\n",
      "Requirement already satisfied: markdown>=2.6.8 in c:\\users\\amamo\\anaconda3\\lib\\site-packages (from tensorboard<2.18,>=2.17->tensorflow-intel==2.17.0->tensorflow<2.18,>=2.17->tf-keras) (3.4.1)\n",
      "Requirement already satisfied: tensorboard-data-server<0.8.0,>=0.7.0 in c:\\users\\amamo\\anaconda3\\lib\\site-packages (from tensorboard<2.18,>=2.17->tensorflow-intel==2.17.0->tensorflow<2.18,>=2.17->tf-keras) (0.7.2)\n",
      "Requirement already satisfied: werkzeug>=1.0.1 in c:\\users\\amamo\\anaconda3\\lib\\site-packages (from tensorboard<2.18,>=2.17->tensorflow-intel==2.17.0->tensorflow<2.18,>=2.17->tf-keras) (3.0.3)\n",
      "Requirement already satisfied: MarkupSafe>=2.1.1 in c:\\users\\amamo\\anaconda3\\lib\\site-packages (from werkzeug>=1.0.1->tensorboard<2.18,>=2.17->tensorflow-intel==2.17.0->tensorflow<2.18,>=2.17->tf-keras) (2.1.3)\n",
      "Requirement already satisfied: markdown-it-py<3.0.0,>=2.2.0 in c:\\users\\amamo\\anaconda3\\lib\\site-packages (from rich->keras>=3.2.0->tensorflow-intel==2.17.0->tensorflow<2.18,>=2.17->tf-keras) (2.2.0)\n",
      "Requirement already satisfied: pygments<3.0.0,>=2.13.0 in c:\\users\\amamo\\appdata\\roaming\\python\\python312\\site-packages (from rich->keras>=3.2.0->tensorflow-intel==2.17.0->tensorflow<2.18,>=2.17->tf-keras) (2.17.2)\n",
      "Requirement already satisfied: mdurl~=0.1 in c:\\users\\amamo\\anaconda3\\lib\\site-packages (from markdown-it-py<3.0.0,>=2.2.0->rich->keras>=3.2.0->tensorflow-intel==2.17.0->tensorflow<2.18,>=2.17->tf-keras) (0.1.0)\n",
      "Downloading tf_keras-2.17.0-py3-none-any.whl (1.7 MB)\n",
      "   ---------------------------------------- 0.0/1.7 MB ? eta -:--:--\n",
      "   ------------------------ --------------- 1.0/1.7 MB 10.0 MB/s eta 0:00:01\n",
      "   ---------------------------------------- 1.7/1.7 MB 13.3 MB/s eta 0:00:00\n",
      "Downloading tensorflow-2.17.0-cp312-cp312-win_amd64.whl (2.0 kB)\n",
      "Downloading tensorflow_intel-2.17.0-cp312-cp312-win_amd64.whl (385.2 MB)\n",
      "   ---------------------------------------- 0.0/385.2 MB ? eta -:--:--\n",
      "    --------------------------------------- 8.9/385.2 MB 42.6 MB/s eta 0:00:09\n",
      "   - -------------------------------------- 11.3/385.2 MB 27.1 MB/s eta 0:00:14\n",
      "   - -------------------------------------- 12.1/385.2 MB 19.4 MB/s eta 0:00:20\n",
      "   - -------------------------------------- 13.1/385.2 MB 15.5 MB/s eta 0:00:24\n",
      "   - -------------------------------------- 14.4/385.2 MB 13.7 MB/s eta 0:00:28\n",
      "   - -------------------------------------- 16.5/385.2 MB 12.8 MB/s eta 0:00:29\n",
      "   - -------------------------------------- 19.1/385.2 MB 12.8 MB/s eta 0:00:29\n",
      "   -- ------------------------------------- 20.7/385.2 MB 12.2 MB/s eta 0:00:30\n",
      "   -- ------------------------------------- 22.3/385.2 MB 11.6 MB/s eta 0:00:32\n",
      "   -- ------------------------------------- 23.9/385.2 MB 11.3 MB/s eta 0:00:33\n",
      "   -- ------------------------------------- 25.4/385.2 MB 10.9 MB/s eta 0:00:34\n",
      "   -- ------------------------------------- 27.0/385.2 MB 10.6 MB/s eta 0:00:34\n",
      "   -- ------------------------------------- 28.6/385.2 MB 10.4 MB/s eta 0:00:35\n",
      "   --- ------------------------------------ 30.4/385.2 MB 10.2 MB/s eta 0:00:35\n",
      "   --- ------------------------------------ 30.9/385.2 MB 9.8 MB/s eta 0:00:37\n",
      "   --- ------------------------------------ 33.0/385.2 MB 9.9 MB/s eta 0:00:36\n",
      "   --- ------------------------------------ 34.6/385.2 MB 9.7 MB/s eta 0:00:37\n",
      "   --- ------------------------------------ 36.2/385.2 MB 9.6 MB/s eta 0:00:37\n",
      "   --- ------------------------------------ 37.7/385.2 MB 9.5 MB/s eta 0:00:37\n",
      "   ---- ----------------------------------- 39.3/385.2 MB 9.4 MB/s eta 0:00:37\n",
      "   ---- ----------------------------------- 40.9/385.2 MB 9.3 MB/s eta 0:00:38\n",
      "   ---- ----------------------------------- 42.5/385.2 MB 9.2 MB/s eta 0:00:38\n",
      "   ---- ----------------------------------- 44.3/385.2 MB 9.1 MB/s eta 0:00:38\n",
      "   ---- ----------------------------------- 45.6/385.2 MB 9.0 MB/s eta 0:00:38\n",
      "   ---- ----------------------------------- 46.9/385.2 MB 9.0 MB/s eta 0:00:38\n",
      "   ----- ---------------------------------- 49.0/385.2 MB 8.9 MB/s eta 0:00:38\n",
      "   ----- ---------------------------------- 50.6/385.2 MB 8.9 MB/s eta 0:00:38\n",
      "   ----- ---------------------------------- 52.2/385.2 MB 8.8 MB/s eta 0:00:38\n",
      "   ----- ---------------------------------- 53.5/385.2 MB 8.8 MB/s eta 0:00:38\n",
      "   ----- ---------------------------------- 55.3/385.2 MB 8.7 MB/s eta 0:00:38\n",
      "   ----- ---------------------------------- 56.6/385.2 MB 8.7 MB/s eta 0:00:38\n",
      "   ------ --------------------------------- 58.2/385.2 MB 8.7 MB/s eta 0:00:38\n",
      "   ------ --------------------------------- 59.8/385.2 MB 8.6 MB/s eta 0:00:38\n",
      "   ------ --------------------------------- 61.3/385.2 MB 8.6 MB/s eta 0:00:38\n",
      "   ------ --------------------------------- 62.7/385.2 MB 8.6 MB/s eta 0:00:38\n",
      "   ------ --------------------------------- 64.5/385.2 MB 8.5 MB/s eta 0:00:38\n",
      "   ------ --------------------------------- 66.3/385.2 MB 8.5 MB/s eta 0:00:38\n",
      "   ------- -------------------------------- 67.6/385.2 MB 8.4 MB/s eta 0:00:38\n",
      "   ------- -------------------------------- 68.7/385.2 MB 8.4 MB/s eta 0:00:38\n",
      "   ------- -------------------------------- 70.5/385.2 MB 8.4 MB/s eta 0:00:38\n",
      "   ------- -------------------------------- 72.4/385.2 MB 8.4 MB/s eta 0:00:38\n",
      "   ------- -------------------------------- 73.7/385.2 MB 8.4 MB/s eta 0:00:38\n",
      "   ------- -------------------------------- 75.0/385.2 MB 8.4 MB/s eta 0:00:38\n",
      "   -------- ------------------------------- 77.1/385.2 MB 8.3 MB/s eta 0:00:38\n",
      "   -------- ------------------------------- 78.4/385.2 MB 8.3 MB/s eta 0:00:38\n",
      "   -------- ------------------------------- 80.2/385.2 MB 8.3 MB/s eta 0:00:37\n",
      "   -------- ------------------------------- 81.5/385.2 MB 8.2 MB/s eta 0:00:37\n",
      "   -------- ------------------------------- 83.4/385.2 MB 8.2 MB/s eta 0:00:37\n",
      "   -------- ------------------------------- 84.9/385.2 MB 8.2 MB/s eta 0:00:37\n",
      "   -------- ------------------------------- 86.2/385.2 MB 8.2 MB/s eta 0:00:37\n",
      "   --------- ------------------------------ 88.1/385.2 MB 8.2 MB/s eta 0:00:37\n",
      "   --------- ------------------------------ 89.1/385.2 MB 8.1 MB/s eta 0:00:37\n",
      "   --------- ------------------------------ 91.2/385.2 MB 8.2 MB/s eta 0:00:36\n",
      "   --------- ------------------------------ 93.1/385.2 MB 8.1 MB/s eta 0:00:36\n",
      "   --------- ------------------------------ 94.4/385.2 MB 8.1 MB/s eta 0:00:36\n",
      "   --------- ------------------------------ 95.9/385.2 MB 8.1 MB/s eta 0:00:36\n",
      "   ---------- ----------------------------- 97.5/385.2 MB 8.1 MB/s eta 0:00:36\n",
      "   ---------- ----------------------------- 99.1/385.2 MB 8.1 MB/s eta 0:00:36\n",
      "   ---------- ----------------------------- 100.9/385.2 MB 8.1 MB/s eta 0:00:36\n",
      "   ---------- ----------------------------- 102.5/385.2 MB 8.1 MB/s eta 0:00:35\n",
      "   ---------- ----------------------------- 103.8/385.2 MB 8.1 MB/s eta 0:00:35\n",
      "   ---------- ----------------------------- 105.1/385.2 MB 8.0 MB/s eta 0:00:35\n",
      "   ----------- ---------------------------- 107.0/385.2 MB 8.0 MB/s eta 0:00:35\n",
      "   ----------- ---------------------------- 108.3/385.2 MB 8.0 MB/s eta 0:00:35\n",
      "   ----------- ---------------------------- 109.8/385.2 MB 8.0 MB/s eta 0:00:35\n",
      "   ----------- ---------------------------- 111.7/385.2 MB 8.0 MB/s eta 0:00:35\n",
      "   ----------- ---------------------------- 113.0/385.2 MB 8.0 MB/s eta 0:00:35\n",
      "   ----------- ---------------------------- 114.8/385.2 MB 8.0 MB/s eta 0:00:34\n",
      "   ------------ --------------------------- 116.1/385.2 MB 8.0 MB/s eta 0:00:34\n",
      "   ------------ --------------------------- 117.4/385.2 MB 7.9 MB/s eta 0:00:34\n",
      "   ------------ --------------------------- 119.8/385.2 MB 8.0 MB/s eta 0:00:34\n",
      "   ------------ --------------------------- 120.8/385.2 MB 7.9 MB/s eta 0:00:34\n",
      "   ------------ --------------------------- 122.4/385.2 MB 7.9 MB/s eta 0:00:34\n",
      "   ------------ --------------------------- 124.0/385.2 MB 7.9 MB/s eta 0:00:33\n",
      "   ------------- -------------------------- 125.8/385.2 MB 7.9 MB/s eta 0:00:33\n",
      "   ------------- -------------------------- 127.4/385.2 MB 7.9 MB/s eta 0:00:33\n",
      "   ------------- -------------------------- 129.0/385.2 MB 7.9 MB/s eta 0:00:33\n",
      "   ------------- -------------------------- 129.2/385.2 MB 7.8 MB/s eta 0:00:33\n",
      "   ------------- -------------------------- 130.0/385.2 MB 7.8 MB/s eta 0:00:33\n",
      "   ------------- -------------------------- 131.6/385.2 MB 7.8 MB/s eta 0:00:33\n",
      "   ------------- -------------------------- 133.4/385.2 MB 7.8 MB/s eta 0:00:33\n",
      "   -------------- ------------------------- 135.8/385.2 MB 7.8 MB/s eta 0:00:32\n",
      "   -------------- ------------------------- 138.4/385.2 MB 7.9 MB/s eta 0:00:32\n",
      "   -------------- ------------------------- 140.2/385.2 MB 7.9 MB/s eta 0:00:32\n",
      "   -------------- ------------------------- 141.6/385.2 MB 7.9 MB/s eta 0:00:31\n",
      "   -------------- ------------------------- 143.4/385.2 MB 7.9 MB/s eta 0:00:31\n",
      "   --------------- ------------------------ 144.7/385.2 MB 7.9 MB/s eta 0:00:31\n",
      "   --------------- ------------------------ 146.3/385.2 MB 7.9 MB/s eta 0:00:31\n",
      "   --------------- ------------------------ 148.1/385.2 MB 7.9 MB/s eta 0:00:31\n",
      "   --------------- ------------------------ 149.7/385.2 MB 7.9 MB/s eta 0:00:30\n",
      "   --------------- ------------------------ 151.3/385.2 MB 7.9 MB/s eta 0:00:30\n",
      "   --------------- ------------------------ 152.8/385.2 MB 7.8 MB/s eta 0:00:30\n",
      "   ---------------- ----------------------- 154.1/385.2 MB 7.8 MB/s eta 0:00:30\n",
      "   ---------------- ----------------------- 155.2/385.2 MB 7.8 MB/s eta 0:00:30\n",
      "   ---------------- ----------------------- 157.0/385.2 MB 7.8 MB/s eta 0:00:30\n",
      "   ---------------- ----------------------- 158.3/385.2 MB 7.8 MB/s eta 0:00:29\n",
      "   ---------------- ----------------------- 160.2/385.2 MB 7.8 MB/s eta 0:00:29\n",
      "   ---------------- ----------------------- 160.7/385.2 MB 7.8 MB/s eta 0:00:29\n",
      "   ---------------- ----------------------- 161.7/385.2 MB 7.7 MB/s eta 0:00:29\n",
      "   ---------------- ----------------------- 162.3/385.2 MB 7.7 MB/s eta 0:00:29\n",
      "   ---------------- ----------------------- 163.1/385.2 MB 7.6 MB/s eta 0:00:30\n",
      "   ----------------- ---------------------- 164.1/385.2 MB 7.6 MB/s eta 0:00:30\n",
      "   ----------------- ---------------------- 165.2/385.2 MB 7.6 MB/s eta 0:00:29\n",
      "   ----------------- ---------------------- 166.7/385.2 MB 7.6 MB/s eta 0:00:29\n",
      "   ----------------- ---------------------- 168.8/385.2 MB 7.6 MB/s eta 0:00:29\n",
      "   ----------------- ---------------------- 171.4/385.2 MB 7.6 MB/s eta 0:00:28\n",
      "   ------------------ --------------------- 175.1/385.2 MB 7.7 MB/s eta 0:00:28\n",
      "   ------------------ --------------------- 177.2/385.2 MB 7.8 MB/s eta 0:00:27\n",
      "   ------------------ --------------------- 178.3/385.2 MB 7.7 MB/s eta 0:00:27\n",
      "   ------------------ --------------------- 179.6/385.2 MB 7.7 MB/s eta 0:00:27\n",
      "   ------------------ --------------------- 180.9/385.2 MB 7.7 MB/s eta 0:00:27\n",
      "   ------------------ --------------------- 182.7/385.2 MB 7.7 MB/s eta 0:00:27\n",
      "   ------------------- -------------------- 185.1/385.2 MB 7.7 MB/s eta 0:00:26\n",
      "   ------------------- -------------------- 186.9/385.2 MB 7.8 MB/s eta 0:00:26\n",
      "   ------------------- -------------------- 189.0/385.2 MB 7.8 MB/s eta 0:00:26\n",
      "   ------------------- -------------------- 190.3/385.2 MB 7.8 MB/s eta 0:00:26\n",
      "   ------------------- -------------------- 192.2/385.2 MB 7.8 MB/s eta 0:00:25\n",
      "   -------------------- ------------------- 193.2/385.2 MB 7.8 MB/s eta 0:00:25\n",
      "   -------------------- ------------------- 195.3/385.2 MB 7.8 MB/s eta 0:00:25\n",
      "   -------------------- ------------------- 196.9/385.2 MB 7.8 MB/s eta 0:00:25\n",
      "   -------------------- ------------------- 198.4/385.2 MB 7.7 MB/s eta 0:00:25\n",
      "   -------------------- ------------------- 200.0/385.2 MB 7.7 MB/s eta 0:00:24\n",
      "   -------------------- ------------------- 201.6/385.2 MB 7.7 MB/s eta 0:00:24\n",
      "   --------------------- ------------------ 203.2/385.2 MB 7.7 MB/s eta 0:00:24\n",
      "   --------------------- ------------------ 204.7/385.2 MB 7.7 MB/s eta 0:00:24\n",
      "   --------------------- ------------------ 206.6/385.2 MB 7.7 MB/s eta 0:00:24\n",
      "   --------------------- ------------------ 207.9/385.2 MB 7.7 MB/s eta 0:00:23\n",
      "   --------------------- ------------------ 209.5/385.2 MB 7.7 MB/s eta 0:00:23\n",
      "   --------------------- ------------------ 211.0/385.2 MB 7.7 MB/s eta 0:00:23\n",
      "   ---------------------- ----------------- 212.6/385.2 MB 7.7 MB/s eta 0:00:23\n",
      "   ---------------------- ----------------- 213.9/385.2 MB 7.7 MB/s eta 0:00:23\n",
      "   ---------------------- ----------------- 215.7/385.2 MB 7.7 MB/s eta 0:00:22\n",
      "   ---------------------- ----------------- 216.8/385.2 MB 7.7 MB/s eta 0:00:22\n",
      "   ---------------------- ----------------- 218.1/385.2 MB 7.7 MB/s eta 0:00:22\n",
      "   ---------------------- ----------------- 219.4/385.2 MB 7.7 MB/s eta 0:00:22\n",
      "   ----------------------- ---------------- 221.8/385.2 MB 7.7 MB/s eta 0:00:22\n",
      "   ----------------------- ---------------- 223.6/385.2 MB 7.7 MB/s eta 0:00:21\n",
      "   ----------------------- ---------------- 224.9/385.2 MB 7.7 MB/s eta 0:00:21\n",
      "   ----------------------- ---------------- 226.8/385.2 MB 7.7 MB/s eta 0:00:21\n",
      "   ----------------------- ---------------- 227.3/385.2 MB 7.7 MB/s eta 0:00:21\n",
      "   ----------------------- ---------------- 229.4/385.2 MB 7.7 MB/s eta 0:00:21\n",
      "   ------------------------ --------------- 231.5/385.2 MB 7.7 MB/s eta 0:00:20\n",
      "   ------------------------ --------------- 233.0/385.2 MB 7.4 MB/s eta 0:00:21\n",
      "   ------------------------ --------------- 234.6/385.2 MB 7.4 MB/s eta 0:00:21\n",
      "   ------------------------ --------------- 235.1/385.2 MB 7.4 MB/s eta 0:00:21\n",
      "   ------------------------ --------------- 235.9/385.2 MB 7.4 MB/s eta 0:00:21\n",
      "   ------------------------ --------------- 237.5/385.2 MB 7.4 MB/s eta 0:00:20\n",
      "   ------------------------ --------------- 239.3/385.2 MB 7.4 MB/s eta 0:00:20\n",
      "   ------------------------- -------------- 241.7/385.2 MB 7.4 MB/s eta 0:00:20\n",
      "   ------------------------- -------------- 244.1/385.2 MB 7.5 MB/s eta 0:00:19\n",
      "   ------------------------- -------------- 245.9/385.2 MB 7.4 MB/s eta 0:00:19\n",
      "   ------------------------- -------------- 247.2/385.2 MB 7.4 MB/s eta 0:00:19\n",
      "   ------------------------- -------------- 249.0/385.2 MB 7.4 MB/s eta 0:00:19\n",
      "   ------------------------- -------------- 250.3/385.2 MB 7.4 MB/s eta 0:00:19\n",
      "   -------------------------- ------------- 251.9/385.2 MB 7.4 MB/s eta 0:00:18\n",
      "   -------------------------- ------------- 253.5/385.2 MB 7.5 MB/s eta 0:00:18\n",
      "   -------------------------- ------------- 254.8/385.2 MB 7.4 MB/s eta 0:00:18\n",
      "   -------------------------- ------------- 256.6/385.2 MB 7.4 MB/s eta 0:00:18\n",
      "   -------------------------- ------------- 258.5/385.2 MB 7.4 MB/s eta 0:00:18\n",
      "   -------------------------- ------------- 259.8/385.2 MB 7.4 MB/s eta 0:00:17\n",
      "   -------------------------- ------------- 259.8/385.2 MB 7.4 MB/s eta 0:00:17\n",
      "   --------------------------- ------------ 260.8/385.2 MB 7.4 MB/s eta 0:00:17\n",
      "   --------------------------- ------------ 261.1/385.2 MB 7.3 MB/s eta 0:00:17\n",
      "   --------------------------- ------------ 261.6/385.2 MB 7.3 MB/s eta 0:00:17\n",
      "   --------------------------- ------------ 262.4/385.2 MB 7.2 MB/s eta 0:00:17\n",
      "   --------------------------- ------------ 262.9/385.2 MB 7.2 MB/s eta 0:00:17\n",
      "   --------------------------- ------------ 263.7/385.2 MB 7.2 MB/s eta 0:00:17\n",
      "   --------------------------- ------------ 264.8/385.2 MB 7.2 MB/s eta 0:00:17\n",
      "   --------------------------- ------------ 266.1/385.2 MB 7.2 MB/s eta 0:00:17\n",
      "   --------------------------- ------------ 267.9/385.2 MB 7.2 MB/s eta 0:00:17\n",
      "   ---------------------------- ----------- 270.0/385.2 MB 7.2 MB/s eta 0:00:17\n",
      "   ---------------------------- ----------- 272.1/385.2 MB 7.2 MB/s eta 0:00:16\n",
      "   ---------------------------- ----------- 275.0/385.2 MB 7.2 MB/s eta 0:00:16\n",
      "   ---------------------------- ----------- 276.8/385.2 MB 7.3 MB/s eta 0:00:15\n",
      "   ---------------------------- ----------- 279.2/385.2 MB 7.3 MB/s eta 0:00:15\n",
      "   ----------------------------- ---------- 282.9/385.2 MB 7.3 MB/s eta 0:00:14\n",
      "   ----------------------------- ---------- 286.5/385.2 MB 7.4 MB/s eta 0:00:14\n",
      "   ----------------------------- ---------- 287.6/385.2 MB 7.4 MB/s eta 0:00:14\n",
      "   ------------------------------ --------- 290.2/385.2 MB 7.5 MB/s eta 0:00:13\n",
      "   ------------------------------ --------- 291.2/385.2 MB 7.4 MB/s eta 0:00:13\n",
      "   ------------------------------ --------- 293.3/385.2 MB 7.4 MB/s eta 0:00:13\n",
      "   ------------------------------ --------- 294.9/385.2 MB 7.4 MB/s eta 0:00:13\n",
      "   ------------------------------ --------- 296.7/385.2 MB 7.4 MB/s eta 0:00:12\n",
      "   ------------------------------ --------- 298.1/385.2 MB 7.4 MB/s eta 0:00:12\n",
      "   ------------------------------- -------- 299.6/385.2 MB 7.4 MB/s eta 0:00:12\n",
      "   ------------------------------- -------- 301.5/385.2 MB 7.4 MB/s eta 0:00:12\n",
      "   ------------------------------- -------- 302.8/385.2 MB 7.5 MB/s eta 0:00:12\n",
      "   ------------------------------- -------- 304.3/385.2 MB 7.5 MB/s eta 0:00:11\n",
      "   ------------------------------- -------- 306.2/385.2 MB 7.4 MB/s eta 0:00:11\n",
      "   ------------------------------- -------- 307.5/385.2 MB 7.4 MB/s eta 0:00:11\n",
      "   -------------------------------- ------- 309.1/385.2 MB 7.5 MB/s eta 0:00:11\n",
      "   -------------------------------- ------- 311.2/385.2 MB 7.4 MB/s eta 0:00:10\n",
      "   -------------------------------- ------- 312.5/385.2 MB 7.5 MB/s eta 0:00:10\n",
      "   -------------------------------- ------- 314.3/385.2 MB 7.4 MB/s eta 0:00:10\n",
      "   -------------------------------- ------- 315.4/385.2 MB 7.4 MB/s eta 0:00:10\n",
      "   -------------------------------- ------- 317.5/385.2 MB 7.4 MB/s eta 0:00:10\n",
      "   --------------------------------- ------ 318.8/385.2 MB 7.4 MB/s eta 0:00:09\n",
      "   --------------------------------- ------ 320.6/385.2 MB 7.4 MB/s eta 0:00:09\n",
      "   --------------------------------- ------ 322.2/385.2 MB 7.4 MB/s eta 0:00:09\n",
      "   --------------------------------- ------ 323.7/385.2 MB 7.5 MB/s eta 0:00:09\n",
      "   --------------------------------- ------ 325.3/385.2 MB 7.4 MB/s eta 0:00:09\n",
      "   --------------------------------- ------ 327.2/385.2 MB 7.5 MB/s eta 0:00:08\n",
      "   ---------------------------------- ----- 328.7/385.2 MB 7.5 MB/s eta 0:00:08\n",
      "   ---------------------------------- ----- 329.8/385.2 MB 7.4 MB/s eta 0:00:08\n",
      "   ---------------------------------- ----- 331.9/385.2 MB 7.5 MB/s eta 0:00:08\n",
      "   ---------------------------------- ----- 333.4/385.2 MB 7.5 MB/s eta 0:00:07\n",
      "   ---------------------------------- ----- 335.0/385.2 MB 7.5 MB/s eta 0:00:07\n",
      "   ---------------------------------- ----- 336.9/385.2 MB 7.5 MB/s eta 0:00:07\n",
      "   ----------------------------------- ---- 338.4/385.2 MB 7.4 MB/s eta 0:00:07\n",
      "   ----------------------------------- ---- 340.0/385.2 MB 7.5 MB/s eta 0:00:07\n",
      "   ----------------------------------- ---- 341.6/385.2 MB 7.5 MB/s eta 0:00:06\n",
      "   ----------------------------------- ---- 343.1/385.2 MB 7.5 MB/s eta 0:00:06\n",
      "   ----------------------------------- ---- 344.7/385.2 MB 7.5 MB/s eta 0:00:06\n",
      "   ----------------------------------- ---- 346.0/385.2 MB 7.5 MB/s eta 0:00:06\n",
      "   ------------------------------------ --- 347.6/385.2 MB 7.5 MB/s eta 0:00:06\n",
      "   ------------------------------------ --- 349.2/385.2 MB 7.5 MB/s eta 0:00:05\n",
      "   ------------------------------------ --- 351.0/385.2 MB 7.4 MB/s eta 0:00:05\n",
      "   ------------------------------------ --- 352.6/385.2 MB 7.5 MB/s eta 0:00:05\n",
      "   ------------------------------------ --- 354.4/385.2 MB 7.5 MB/s eta 0:00:05\n",
      "   ------------------------------------ --- 356.0/385.2 MB 7.5 MB/s eta 0:00:04\n",
      "   ------------------------------------- -- 357.0/385.2 MB 7.5 MB/s eta 0:00:04\n",
      "   ------------------------------------- -- 359.1/385.2 MB 7.5 MB/s eta 0:00:04\n",
      "   ------------------------------------- -- 360.7/385.2 MB 7.5 MB/s eta 0:00:04\n",
      "   ------------------------------------- -- 362.3/385.2 MB 7.5 MB/s eta 0:00:04\n",
      "   ------------------------------------- -- 363.6/385.2 MB 7.5 MB/s eta 0:00:03\n",
      "   ------------------------------------- -- 365.2/385.2 MB 7.5 MB/s eta 0:00:03\n",
      "   -------------------------------------- - 366.7/385.2 MB 7.5 MB/s eta 0:00:03\n",
      "   -------------------------------------- - 368.6/385.2 MB 7.5 MB/s eta 0:00:03\n",
      "   -------------------------------------- - 369.9/385.2 MB 7.5 MB/s eta 0:00:03\n",
      "   -------------------------------------- - 371.7/385.2 MB 7.5 MB/s eta 0:00:02\n",
      "   -------------------------------------- - 373.3/385.2 MB 7.5 MB/s eta 0:00:02\n",
      "   -------------------------------------- - 375.1/385.2 MB 7.5 MB/s eta 0:00:02\n",
      "   ---------------------------------------  376.4/385.2 MB 7.5 MB/s eta 0:00:02\n",
      "   ---------------------------------------  378.3/385.2 MB 7.5 MB/s eta 0:00:01\n",
      "   ---------------------------------------  379.6/385.2 MB 7.5 MB/s eta 0:00:01\n",
      "   ---------------------------------------  381.2/385.2 MB 7.5 MB/s eta 0:00:01\n",
      "   ---------------------------------------  382.7/385.2 MB 7.5 MB/s eta 0:00:01\n",
      "   ---------------------------------------  384.3/385.2 MB 7.5 MB/s eta 0:00:01\n",
      "   ---------------------------------------  385.1/385.2 MB 7.5 MB/s eta 0:00:01\n",
      "   ---------------------------------------  385.1/385.2 MB 7.5 MB/s eta 0:00:01\n",
      "   ---------------------------------------  385.1/385.2 MB 7.5 MB/s eta 0:00:01\n",
      "   ---------------------------------------  385.1/385.2 MB 7.5 MB/s eta 0:00:01\n",
      "   ---------------------------------------- 385.2/385.2 MB 7.4 MB/s eta 0:00:00\n",
      "Downloading protobuf-4.25.4-cp310-abi3-win_amd64.whl (413 kB)\n",
      "Downloading tensorboard-2.17.1-py3-none-any.whl (5.5 MB)\n",
      "   ---------------------------------------- 0.0/5.5 MB ? eta -:--:--\n",
      "   ------------------------ --------------- 3.4/5.5 MB 16.8 MB/s eta 0:00:01\n",
      "   ---------------------------------------- 5.5/5.5 MB 15.2 MB/s eta 0:00:00\n",
      "Installing collected packages: protobuf, tensorboard, tensorflow-intel, tensorflow, tf-keras\n",
      "  Attempting uninstall: protobuf\n",
      "    Found existing installation: protobuf 5.27.3\n",
      "    Uninstalling protobuf-5.27.3:\n",
      "      Successfully uninstalled protobuf-5.27.3\n",
      "  Attempting uninstall: tensorboard\n",
      "    Found existing installation: tensorboard 2.16.2\n",
      "    Uninstalling tensorboard-2.16.2:\n",
      "      Successfully uninstalled tensorboard-2.16.2\n",
      "  Attempting uninstall: tensorflow-intel\n",
      "    Found existing installation: tensorflow-intel 2.16.2\n",
      "    Uninstalling tensorflow-intel-2.16.2:\n",
      "      Successfully uninstalled tensorflow-intel-2.16.2\n",
      "  Attempting uninstall: tensorflow\n",
      "    Found existing installation: tensorflow 2.16.2\n",
      "    Uninstalling tensorflow-2.16.2:\n",
      "      Successfully uninstalled tensorflow-2.16.2\n",
      "Successfully installed protobuf-4.25.4 tensorboard-2.17.1 tensorflow-2.17.0 tensorflow-intel-2.17.0 tf-keras-2.17.0\n"
     ]
    },
    {
     "name": "stderr",
     "output_type": "stream",
     "text": [
      "  WARNING: Failed to remove contents in a temporary directory 'C:\\Users\\amamo\\anaconda3\\Lib\\site-packages\\google\\~upb'.\n",
      "  You can safely remove it manually.\n",
      "  WARNING: Failed to remove contents in a temporary directory 'C:\\Users\\amamo\\anaconda3\\Lib\\site-packages\\~ensorflow'.\n",
      "  You can safely remove it manually.\n",
      "ERROR: pip's dependency resolver does not currently take into account all the packages that are installed. This behaviour is the source of the following dependency conflicts.\n",
      "grpcio-tools 1.65.4 requires protobuf<6.0dev,>=5.26.1, but you have protobuf 4.25.4 which is incompatible.\n"
     ]
    }
   ],
   "source": [
    "!pip install tf-keras\n"
   ]
  },
  {
   "cell_type": "markdown",
   "metadata": {},
   "source": [
    "**Import Libraries**"
   ]
  },
  {
   "cell_type": "code",
   "execution_count": 6,
   "metadata": {},
   "outputs": [
    {
     "name": "stdout",
     "output_type": "stream",
     "text": [
      "WARNING:tensorflow:From c:\\Users\\amamo\\anaconda3\\Lib\\site-packages\\tf_keras\\src\\losses.py:2976: The name tf.losses.sparse_softmax_cross_entropy is deprecated. Please use tf.compat.v1.losses.sparse_softmax_cross_entropy instead.\n",
      "\n"
     ]
    }
   ],
   "source": [
    "from qdrant_client import QdrantClient\n",
    "from sentence_transformers import SentenceTransformer\n",
    "from qdrant_client.http.models import VectorParams, Distance\n",
    "from qdrant_client.http.models import Batch\n",
    "from qdrant_client.http.models import Filter, FieldCondition, MatchValue\n"
   ]
  },
  {
   "cell_type": "markdown",
   "metadata": {},
   "source": [
    "**Initialize Client**"
   ]
  },
  {
   "cell_type": "code",
   "execution_count": 7,
   "metadata": {},
   "outputs": [],
   "source": [
    "qdrant_client = QdrantClient(\n",
    "    url=\"https://7bc28590-5d5c-4b23-a46c-8415382087a1.europe-west3-0.gcp.cloud.qdrant.io:6333\", \n",
    "    api_key=\"8sZ9x54Pi3LlF_Zffjs0u9-bifs2hRMmFm6cI7r2x7LDcqNKOXsiHQ\",\n",
    ")\n"
   ]
  },
  {
   "cell_type": "markdown",
   "metadata": {},
   "source": [
    "**Load Model**"
   ]
  },
  {
   "cell_type": "code",
   "execution_count": 8,
   "metadata": {},
   "outputs": [
    {
     "data": {
      "application/vnd.jupyter.widget-view+json": {
       "model_id": "65c9b8104904488188587b06df1c0473",
       "version_major": 2,
       "version_minor": 0
      },
      "text/plain": [
       "modules.json:   0%|          | 0.00/349 [00:00<?, ?B/s]"
      ]
     },
     "metadata": {},
     "output_type": "display_data"
    },
    {
     "name": "stderr",
     "output_type": "stream",
     "text": [
      "c:\\Users\\amamo\\anaconda3\\Lib\\site-packages\\huggingface_hub\\file_download.py:159: UserWarning: `huggingface_hub` cache-system uses symlinks by default to efficiently store duplicated files but your machine does not support them in C:\\Users\\amamo\\.cache\\huggingface\\hub\\models--sentence-transformers--all-mpnet-base-v2. Caching files will still work but in a degraded version that might require more space on your disk. This warning can be disabled by setting the `HF_HUB_DISABLE_SYMLINKS_WARNING` environment variable. For more details, see https://huggingface.co/docs/huggingface_hub/how-to-cache#limitations.\n",
      "To support symlinks on Windows, you either need to activate Developer Mode or to run Python as an administrator. In order to see activate developer mode, see this article: https://docs.microsoft.com/en-us/windows/apps/get-started/enable-your-device-for-development\n",
      "  warnings.warn(message)\n"
     ]
    },
    {
     "data": {
      "application/vnd.jupyter.widget-view+json": {
       "model_id": "7e9a6041639d49f4bf98b74b5846743e",
       "version_major": 2,
       "version_minor": 0
      },
      "text/plain": [
       "config_sentence_transformers.json:   0%|          | 0.00/116 [00:00<?, ?B/s]"
      ]
     },
     "metadata": {},
     "output_type": "display_data"
    },
    {
     "data": {
      "application/vnd.jupyter.widget-view+json": {
       "model_id": "77b25cbb7cc24eb394a096fa07e032df",
       "version_major": 2,
       "version_minor": 0
      },
      "text/plain": [
       "README.md:   0%|          | 0.00/10.6k [00:00<?, ?B/s]"
      ]
     },
     "metadata": {},
     "output_type": "display_data"
    },
    {
     "data": {
      "application/vnd.jupyter.widget-view+json": {
       "model_id": "70792c99a4864d0ca2d9993c81cc47b6",
       "version_major": 2,
       "version_minor": 0
      },
      "text/plain": [
       "sentence_bert_config.json:   0%|          | 0.00/53.0 [00:00<?, ?B/s]"
      ]
     },
     "metadata": {},
     "output_type": "display_data"
    },
    {
     "data": {
      "application/vnd.jupyter.widget-view+json": {
       "model_id": "84fcd8ba0888421285cd5001d81d8401",
       "version_major": 2,
       "version_minor": 0
      },
      "text/plain": [
       "config.json:   0%|          | 0.00/571 [00:00<?, ?B/s]"
      ]
     },
     "metadata": {},
     "output_type": "display_data"
    },
    {
     "data": {
      "application/vnd.jupyter.widget-view+json": {
       "model_id": "0cf5bf202dec4352920700a54b975c59",
       "version_major": 2,
       "version_minor": 0
      },
      "text/plain": [
       "model.safetensors:   0%|          | 0.00/438M [00:00<?, ?B/s]"
      ]
     },
     "metadata": {},
     "output_type": "display_data"
    },
    {
     "data": {
      "application/vnd.jupyter.widget-view+json": {
       "model_id": "3f5a732175a548f09db3542b2b28b5c7",
       "version_major": 2,
       "version_minor": 0
      },
      "text/plain": [
       "tokenizer_config.json:   0%|          | 0.00/363 [00:00<?, ?B/s]"
      ]
     },
     "metadata": {},
     "output_type": "display_data"
    },
    {
     "data": {
      "application/vnd.jupyter.widget-view+json": {
       "model_id": "fca8a21053f14c53b4237a446f607eb3",
       "version_major": 2,
       "version_minor": 0
      },
      "text/plain": [
       "vocab.txt:   0%|          | 0.00/232k [00:00<?, ?B/s]"
      ]
     },
     "metadata": {},
     "output_type": "display_data"
    },
    {
     "data": {
      "application/vnd.jupyter.widget-view+json": {
       "model_id": "251d9379e435485682d3dbeeb317edc8",
       "version_major": 2,
       "version_minor": 0
      },
      "text/plain": [
       "tokenizer.json:   0%|          | 0.00/466k [00:00<?, ?B/s]"
      ]
     },
     "metadata": {},
     "output_type": "display_data"
    },
    {
     "data": {
      "application/vnd.jupyter.widget-view+json": {
       "model_id": "70ec4fde97ff4e6386c598e64f1e84c3",
       "version_major": 2,
       "version_minor": 0
      },
      "text/plain": [
       "special_tokens_map.json:   0%|          | 0.00/239 [00:00<?, ?B/s]"
      ]
     },
     "metadata": {},
     "output_type": "display_data"
    },
    {
     "name": "stderr",
     "output_type": "stream",
     "text": [
      "c:\\Users\\amamo\\anaconda3\\Lib\\site-packages\\transformers\\tokenization_utils_base.py:1601: FutureWarning: `clean_up_tokenization_spaces` was not set. It will be set to `True` by default. This behavior will be depracted in transformers v4.45, and will be then set to `False` by default. For more details check this issue: https://github.com/huggingface/transformers/issues/31884\n",
      "  warnings.warn(\n"
     ]
    },
    {
     "data": {
      "application/vnd.jupyter.widget-view+json": {
       "model_id": "6d5d8cf236a84ec5aa4bb6fe01a56c80",
       "version_major": 2,
       "version_minor": 0
      },
      "text/plain": [
       "1_Pooling/config.json:   0%|          | 0.00/190 [00:00<?, ?B/s]"
      ]
     },
     "metadata": {},
     "output_type": "display_data"
    }
   ],
   "source": [
    "model = SentenceTransformer('sentence-transformers/all-mpnet-base-v2')\n"
   ]
  },
  {
   "cell_type": "markdown",
   "metadata": {},
   "source": [
    "**Define Data**"
   ]
  },
  {
   "cell_type": "code",
   "execution_count": 9,
   "metadata": {},
   "outputs": [
    {
     "name": "stderr",
     "output_type": "stream",
     "text": [
      "<>:13: SyntaxWarning: invalid escape sequence '\\ '\n",
      "<>:13: SyntaxWarning: invalid escape sequence '\\ '\n",
      "C:\\Users\\amamo\\AppData\\Local\\Temp\\ipykernel_25420\\2210266601.py:13: SyntaxWarning: invalid escape sequence '\\ '\n",
      "  \"\"\"Cars, versatile modes of transportation, come in various shapes and \\\n"
     ]
    }
   ],
   "source": [
    "documents = [\n",
    "    \"\"\"Elephants, the largest land mammals, exhibit remarkable intelligence and \\\n",
    "    social bonds, relying on their powerful trunks for communication and various\\\n",
    "     tasks like lifting objects \\and gathering food.\"\"\",\n",
    "\n",
    "\n",
    "    \"\"\" Penguins, flightless birds adapted to life in the water, showcase strong \\\n",
    "    social structures and exceptional parenting skills. Their sleek bodies \\\n",
    "    enable efficient swimming, and they endure \\\n",
    "    harsh Antarctic conditions in tightly-knit colonies. \"\"\",\n",
    "\n",
    "\n",
    "    \"\"\"Cars, versatile modes of transportation, come in various shapes and \\\n",
    "    sizes, from compact city cars to powerful sports vehicles, offering a \\\n",
    "    range of features for different preferences and \\ needs.\"\"\",\n",
    "\n",
    "\n",
    "    \"\"\"Motorbikes, nimble two-wheeled machines, provide a thrilling and \\\n",
    "    liberating riding experience, appealing to enthusiasts who appreciate \\\n",
    "    speed, agility, and the open road.\"\"\",\n",
    "\n",
    "\n",
    "    \"\"\"Tigers, majestic big cats, are solitary hunters with distinctive \\\n",
    "    striped fur. Their powerful build and stealthy movements make them \\\n",
    "    formidable predators, but their populations are threatened \\\n",
    "    due to habitat loss and poaching.\"\"\"\n",
    "]\n"
   ]
  },
  {
   "cell_type": "markdown",
   "metadata": {},
   "source": [
    "**Create Data Embeddings**"
   ]
  },
  {
   "cell_type": "code",
   "execution_count": 10,
   "metadata": {},
   "outputs": [
    {
     "name": "stdout",
     "output_type": "stream",
     "text": [
      "(5, 768)\n"
     ]
    }
   ],
   "source": [
    "embeddings = model.encode(documents)\n",
    "print(embeddings.shape)\n"
   ]
  },
  {
   "cell_type": "markdown",
   "metadata": {},
   "source": [
    "**Create Collection**"
   ]
  },
  {
   "cell_type": "markdown",
   "metadata": {},
   "source": [
    "- To create a Collection, we work with the create_collection() function of the client object, and to the “Collection_name“, we pass in our Collection name i.e. “my-collection”\n",
    "- VectorParams: This class from qdrant is for vector Configuration, like what is the vector embedding size, what is the distance metric, and such\n",
    "- Distance: This class from qdrant is for defining what distance metric to use for querying vectors\n",
    "- Now to the vector_config variable we pass our Configuration, that is the size of vector embeddings i.e. 786, and the distance metric we want to use, which is COSINE"
   ]
  },
  {
   "cell_type": "code",
   "execution_count": 12,
   "metadata": {},
   "outputs": [
    {
     "data": {
      "text/plain": [
       "True"
      ]
     },
     "execution_count": 12,
     "metadata": {},
     "output_type": "execute_result"
    }
   ],
   "source": [
    "qdrant_client.create_collection(\n",
    "    collection_name = \"my-collection\",\n",
    "    vectors_config = VectorParams(size=768,distance=Distance.COSINE)\n",
    ")\n"
   ]
  },
  {
   "cell_type": "markdown",
   "metadata": {},
   "source": [
    "**Add Vector Embeddings**"
   ]
  },
  {
   "cell_type": "markdown",
   "metadata": {},
   "source": [
    "- To add data to qdrant we call the upsert() method and pass in the Collection name and Points. As we have learned above, a Point consists of vectors, an optional index, and payloads. The Batch Class from qdrant lets us add data in batches instead of adding them one by one.\n",
    "- ids: We are giving our documents an ID. At present, we are giving a range of values from 1 to 5 because we have 5 documents on our list.\n",
    "- payloads: As we have seen before, the payload contains information about the vectors, like metadata. We provide it in key-value pairs. For each document we have provided a payload here, we are assigning the category information for each document.\n",
    "- vectors: These are the vector embeddings of the documents. We are converting it into a list from a numpy array and feeding it."
   ]
  },
  {
   "cell_type": "code",
   "execution_count": 13,
   "metadata": {},
   "outputs": [
    {
     "data": {
      "text/plain": [
       "UpdateResult(operation_id=0, status=<UpdateStatus.COMPLETED: 'completed'>)"
      ]
     },
     "execution_count": 13,
     "metadata": {},
     "output_type": "execute_result"
    }
   ],
   "source": [
    "qdrant_client.upsert (\n",
    "    collection_name = \"my-collection\",\n",
    "    points = Batch(\n",
    "        ids = [1,2,3,4,5],\n",
    "\n",
    "\n",
    "        payloads= [\n",
    "            {\"category\":\"animals\"},\n",
    "            {\"category\":\"animals\"},\n",
    "            {\"category\":\"automobiles\"},\n",
    "            {\"category\":\"automobiles\"},\n",
    "            {\"category\":\"animals\"}\n",
    "        ],\n",
    "\n",
    "\n",
    "        vectors = embeddings.tolist()\n",
    "    )\n",
    ")\n"
   ]
  },
  {
   "cell_type": "markdown",
   "metadata": {},
   "source": [
    "**Create Query Vector**"
   ]
  },
  {
   "cell_type": "code",
   "execution_count": 14,
   "metadata": {},
   "outputs": [],
   "source": [
    "query = model.encode(['Animals live in the forest'])\n"
   ]
  },
  {
   "cell_type": "markdown",
   "metadata": {},
   "source": [
    "**Search Query**"
   ]
  },
  {
   "cell_type": "markdown",
   "metadata": {},
   "source": [
    "To query we use the search() method of the client object and pass it the following:\n",
    "\n",
    "- Collection_name: The name of our Collection\n",
    "- query_vector: The query vector on which we want to search the vector store\n",
    "- limit: How many search outputs do we want the search() function to limit too"
   ]
  },
  {
   "cell_type": "code",
   "execution_count": 15,
   "metadata": {},
   "outputs": [
    {
     "data": {
      "text/plain": [
       "[ScoredPoint(id=1, version=0, score=0.37930727, payload={'category': 'animals'}, vector=None, shard_key=None, order_value=None),\n",
       " ScoredPoint(id=5, version=0, score=0.3664083, payload={'category': 'animals'}, vector=None, shard_key=None, order_value=None),\n",
       " ScoredPoint(id=2, version=0, score=0.14141265, payload={'category': 'animals'}, vector=None, shard_key=None, order_value=None),\n",
       " ScoredPoint(id=4, version=0, score=0.08643645, payload={'category': 'automobiles'}, vector=None, shard_key=None, order_value=None)]"
      ]
     },
     "execution_count": 15,
     "metadata": {},
     "output_type": "execute_result"
    }
   ],
   "source": [
    "qdrant_client.search(\n",
    "    collection_name = \"my-collection\",\n",
    "    query_vector = query[0],\n",
    "    limit = 4\n",
    ")\n"
   ]
  },
  {
   "cell_type": "markdown",
   "metadata": {},
   "source": [
    "**Query Related to Vehicles**"
   ]
  },
  {
   "cell_type": "code",
   "execution_count": 16,
   "metadata": {},
   "outputs": [
    {
     "data": {
      "text/plain": [
       "[ScoredPoint(id=3, version=0, score=0.43686783, payload={'category': 'automobiles'}, vector=None, shard_key=None, order_value=None),\n",
       " ScoredPoint(id=4, version=0, score=0.26304838, payload={'category': 'automobiles'}, vector=None, shard_key=None, order_value=None),\n",
       " ScoredPoint(id=5, version=0, score=0.17894699, payload={'category': 'animals'}, vector=None, shard_key=None, order_value=None)]"
      ]
     },
     "execution_count": 16,
     "metadata": {},
     "output_type": "execute_result"
    }
   ],
   "source": [
    "query = model.encode(['Vehicles are polluting the world'])\n",
    "\n",
    "\n",
    "qdrant_client.search(\n",
    "    collection_name = \"my-collection\",\n",
    "    query_vector = query[0],\n",
    "    limit = 3\n",
    ")\n"
   ]
  },
  {
   "cell_type": "markdown",
   "metadata": {},
   "source": [
    "**Create Filter**"
   ]
  },
  {
   "cell_type": "code",
   "execution_count": 17,
   "metadata": {},
   "outputs": [],
   "source": [
    "query = model.encode(['Animals live in the forest'])\n",
    "\n",
    "\n",
    "custom_filter = Filter(\n",
    "    must = [\n",
    "        FieldCondition(\n",
    "            key = \"category\",\n",
    "            match = MatchValue(\n",
    "                value=\"animals\"\n",
    "            ),\n",
    "        )\n",
    "    ]\n",
    ")\n"
   ]
  },
  {
   "cell_type": "markdown",
   "metadata": {},
   "source": [
    "**Filter Search**"
   ]
  },
  {
   "cell_type": "code",
   "execution_count": 18,
   "metadata": {},
   "outputs": [
    {
     "data": {
      "text/plain": [
       "[ScoredPoint(id=1, version=0, score=0.37930727, payload={'category': 'animals'}, vector=None, shard_key=None, order_value=None),\n",
       " ScoredPoint(id=5, version=0, score=0.3664083, payload={'category': 'animals'}, vector=None, shard_key=None, order_value=None),\n",
       " ScoredPoint(id=2, version=0, score=0.14141265, payload={'category': 'animals'}, vector=None, shard_key=None, order_value=None)]"
      ]
     },
     "execution_count": 18,
     "metadata": {},
     "output_type": "execute_result"
    }
   ],
   "source": [
    "qdrant_client.search(\n",
    "    collection_name = \"my-collection\",\n",
    "    query_vector = query[0],\n",
    "    query_filter = custom_filter,\n",
    "    limit = 4\n",
    ")\n"
   ]
  }
 ],
 "metadata": {
  "kernelspec": {
   "display_name": "base",
   "language": "python",
   "name": "python3"
  },
  "language_info": {
   "codemirror_mode": {
    "name": "ipython",
    "version": 3
   },
   "file_extension": ".py",
   "mimetype": "text/x-python",
   "name": "python",
   "nbconvert_exporter": "python",
   "pygments_lexer": "ipython3",
   "version": "3.12.4"
  }
 },
 "nbformat": 4,
 "nbformat_minor": 2
}
